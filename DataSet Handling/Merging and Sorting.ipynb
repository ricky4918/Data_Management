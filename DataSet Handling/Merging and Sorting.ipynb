{
 "cells": [
  {
   "cell_type": "code",
   "execution_count": null,
   "metadata": {},
   "outputs": [],
   "source": [
    "# SET THEORY\n",
    "\n",
    "# LEFT MERGE\n",
    "# RIGHT\n",
    "# INNER\n",
    "# OUTER"
   ]
  },
  {
   "cell_type": "code",
   "execution_count": 6,
   "metadata": {},
   "outputs": [
    {
     "name": "stdout",
     "output_type": "stream",
     "text": [
      "   id      name   course\n",
      "0   1  jaspreet   python\n",
      "1   2     sneha        r\n",
      "2   4       olu      sas\n",
      "3   6    rounak  tableau\n",
      "4   3    manish  angular\n",
      "5   5    hassan    react\n",
      "   id  age  address\n",
      "0   2   23  kolkata\n",
      "1   1   34       ca\n",
      "2   4   32      aus\n",
      "3   7   25       la\n",
      "4   8   26       nz\n",
      "5   6   27      san\n"
     ]
    }
   ],
   "source": [
    "import pandas as pd\n",
    "\n",
    "stu_data1 = pd.DataFrame({\"id\" : (1,2,4,6,3,5),\n",
    "                          \"name\": (\"jaspreet\",\"sneha\",\"olu\",\"rounak\",\"manish\",\"hassan\"),\n",
    "                          \"course\": (\"python\",\"r\",\"sas\",\"tableau\",\"angular\",\"react\")})\n",
    "print(stu_data1)\n",
    "\n",
    "stu_data2 = pd.DataFrame({\"id\": (2,1,4,7,8,6),\n",
    "                          \"age\": (23,34,32,25,26,27),\n",
    "                          \"address\":(\"kolkata\",\"ca\",\"aus\",\"la\",\"nz\",\"san\")})\n",
    "print(stu_data2)"
   ]
  },
  {
   "cell_type": "code",
   "execution_count": 3,
   "metadata": {},
   "outputs": [
    {
     "name": "stdout",
     "output_type": "stream",
     "text": [
      "   id      name   course\n",
      "0   1  jaspreet   python\n",
      "1   2     sneha        r\n",
      "4   3    manish  angular\n",
      "2   4       olu      sas\n",
      "5   5    hassan    react\n",
      "3   6    rounak  tableau\n",
      "   id  age  address\n",
      "1   1   34       ca\n",
      "0   2   23  kolkata\n",
      "2   4   32      aus\n",
      "5   6   27      san\n",
      "3   7   25       la\n",
      "4   8   26       nz\n"
     ]
    }
   ],
   "source": [
    "# SORT THE DATAFRAME\n",
    "\n",
    "stu_sort1 = stu_data1.sort_values(\"id\")\n",
    "print(stu_sort1)\n",
    "\n",
    "stu_sort2 = stu_data2.sort_values(\"id\")\n",
    "print(stu_sort2)"
   ]
  },
  {
   "cell_type": "code",
   "execution_count": 7,
   "metadata": {},
   "outputs": [
    {
     "name": "stdout",
     "output_type": "stream",
     "text": [
      "   id      name   course   age  address\n",
      "0   1  jaspreet   python  34.0       ca\n",
      "1   2     sneha        r  23.0  kolkata\n",
      "2   3    manish  angular   NaN      NaN\n",
      "3   4       olu      sas  32.0      aus\n",
      "4   5    hassan    react   NaN      NaN\n",
      "5   6    rounak  tableau  27.0      san\n"
     ]
    }
   ],
   "source": [
    "# LEFT JOIN\n",
    "\n",
    "left_stu = pd.merge(stu_sort1,\n",
    "                    stu_sort2, on = \"id\", how = \"left\")\n",
    "print(left_stu)\n"
   ]
  },
  {
   "cell_type": "code",
   "execution_count": 5,
   "metadata": {},
   "outputs": [
    {
     "name": "stdout",
     "output_type": "stream",
     "text": [
      "   id      name   course  age  address\n",
      "0   1  jaspreet   python   34       ca\n",
      "1   2     sneha        r   23  kolkata\n",
      "2   4       olu      sas   32      aus\n",
      "3   6    rounak  tableau   27      san\n",
      "4   7       NaN      NaN   25       la\n",
      "5   8       NaN      NaN   26       nz\n"
     ]
    }
   ],
   "source": [
    "# RIGHT JOIN\n",
    "\n",
    "right_stu = pd.merge(stu_sort1,stu_sort2,\n",
    "                     on = \"id\", how = \"right\")\n",
    "\n",
    "print(right_stu)"
   ]
  },
  {
   "cell_type": "code",
   "execution_count": 8,
   "metadata": {},
   "outputs": [
    {
     "name": "stdout",
     "output_type": "stream",
     "text": [
      "   id      name   course  age  address\n",
      "0   1  jaspreet   python   34       ca\n",
      "1   2     sneha        r   23  kolkata\n",
      "2   4       olu      sas   32      aus\n",
      "3   6    rounak  tableau   27      san\n"
     ]
    }
   ],
   "source": [
    "# INNER JOIN\n",
    "\n",
    "inner_stu = pd.merge(stu_sort1,stu_sort2,\n",
    "                     on = \"id\", how = \"inner\")\n",
    "\n",
    "print(inner_stu)"
   ]
  },
  {
   "cell_type": "code",
   "execution_count": 9,
   "metadata": {},
   "outputs": [
    {
     "name": "stdout",
     "output_type": "stream",
     "text": [
      "   id      name   course   age  address\n",
      "0   1  jaspreet   python  34.0       ca\n",
      "1   2     sneha        r  23.0  kolkata\n",
      "2   3    manish  angular   NaN      NaN\n",
      "3   4       olu      sas  32.0      aus\n",
      "4   5    hassan    react   NaN      NaN\n",
      "5   6    rounak  tableau  27.0      san\n",
      "6   7       NaN      NaN  25.0       la\n",
      "7   8       NaN      NaN  26.0       nz\n"
     ]
    }
   ],
   "source": [
    "# OUTER JOIN (UNION)\n",
    "\n",
    "outer_stu = pd.merge(stu_sort1,stu_sort2,\n",
    "                     on = \"id\", how = \"outer\")\n",
    "\n",
    "print(outer_stu)"
   ]
  },
  {
   "cell_type": "code",
   "execution_count": null,
   "metadata": {},
   "outputs": [],
   "source": []
  }
 ],
 "metadata": {
  "kernelspec": {
   "display_name": "Python 3",
   "language": "python",
   "name": "python3"
  },
  "language_info": {
   "codemirror_mode": {
    "name": "ipython",
    "version": 3
   },
   "file_extension": ".py",
   "mimetype": "text/x-python",
   "name": "python",
   "nbconvert_exporter": "python",
   "pygments_lexer": "ipython3",
   "version": "3.8.3"
  }
 },
 "nbformat": 4,
 "nbformat_minor": 4
}
