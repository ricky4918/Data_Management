{
 "cells": [
  {
   "cell_type": "code",
   "execution_count": 1,
   "metadata": {},
   "outputs": [
    {
     "name": "stdout",
     "output_type": "stream",
     "text": [
      "          ID  SeriousDlqin2yrs  RevolvingUtilizationOfUnsecuredLines  age  \\\n",
      "0          1                 1                              0.766127   45   \n",
      "1          2                 0                              0.957151   40   \n",
      "2          3                 0                              0.658180   38   \n",
      "3          4                 0                              0.233810   30   \n",
      "4          5                 0                              0.907239   49   \n",
      "...      ...               ...                                   ...  ...   \n",
      "65530  65531                 0                              0.877537   54   \n",
      "65531  65532                 0                              0.960672   37   \n",
      "65532  65533                 0                              0.019139   76   \n",
      "65533  65534                 1                              0.350679   55   \n",
      "65534  65535                 0                              0.941521   46   \n",
      "\n",
      "       NumberOfTime30-59DaysPastDueNotWorse    DebtRatio  MonthlyIncome  \\\n",
      "0                                         2     0.802982         9120.0   \n",
      "1                                         0     0.121876         2600.0   \n",
      "2                                         1     0.085113         3042.0   \n",
      "3                                         0     0.036050         3300.0   \n",
      "4                                         1     0.024926        63588.0   \n",
      "...                                     ...          ...            ...   \n",
      "65530                                     0     0.289282         6166.0   \n",
      "65531                                     5     0.624584         6304.0   \n",
      "65532                                     0     0.006727         4607.0   \n",
      "65533                                     3  6429.000000            NaN   \n",
      "65534                                     3     0.274216         8000.0   \n",
      "\n",
      "       NumberOfOpenCreditLinesAndLoans  NumberOfTimes90DaysLate  \\\n",
      "0                                   13                        0   \n",
      "1                                    4                        0   \n",
      "2                                    2                        1   \n",
      "3                                    5                        0   \n",
      "4                                    7                        0   \n",
      "...                                ...                      ...   \n",
      "65530                                7                        0   \n",
      "65531                                7                        1   \n",
      "65532                                6                        0   \n",
      "65533                               17                        0   \n",
      "65534                                8                        1   \n",
      "\n",
      "       NumberRealEstateLoansOrLines  NumberOfTime60-89DaysPastDueNotWorse  \\\n",
      "0                                 6                                     0   \n",
      "1                                 0                                     0   \n",
      "2                                 0                                     0   \n",
      "3                                 0                                     0   \n",
      "4                                 1                                     0   \n",
      "...                             ...                                   ...   \n",
      "65530                             0                                     0   \n",
      "65531                             2                                     0   \n",
      "65532                             0                                     0   \n",
      "65533                             4                                     0   \n",
      "65534                             1                                     3   \n",
      "\n",
      "       NumberOfDependents  \n",
      "0                     2.0  \n",
      "1                     1.0  \n",
      "2                     0.0  \n",
      "3                     0.0  \n",
      "4                     0.0  \n",
      "...                   ...  \n",
      "65530                 0.0  \n",
      "65531                 2.0  \n",
      "65532                 0.0  \n",
      "65533                 0.0  \n",
      "65534                 3.0  \n",
      "\n",
      "[65535 rows x 12 columns]\n"
     ]
    }
   ],
   "source": [
    "#Data Cleaning\n",
    "\n",
    "import pandas as pd\n",
    "\n",
    "\n",
    "#Load the dataset\n",
    "\n",
    "credit = pd.read_excel(\"/users/sanghyunryu/desktop/Trainning/DataSetHandling/credit_data.xls\")\n",
    "print(credit)"
   ]
  },
  {
   "cell_type": "code",
   "execution_count": 2,
   "metadata": {},
   "outputs": [
    {
     "name": "stdout",
     "output_type": "stream",
     "text": [
      "ID                                      False\n",
      "SeriousDlqin2yrs                        False\n",
      "RevolvingUtilizationOfUnsecuredLines    False\n",
      "age                                     False\n",
      "NumberOfTime30-59DaysPastDueNotWorse    False\n",
      "DebtRatio                               False\n",
      "MonthlyIncome                            True\n",
      "NumberOfOpenCreditLinesAndLoans         False\n",
      "NumberOfTimes90DaysLate                 False\n",
      "NumberRealEstateLoansOrLines            False\n",
      "NumberOfTime60-89DaysPastDueNotWorse    False\n",
      "NumberOfDependents                       True\n",
      "dtype: bool\n"
     ]
    }
   ],
   "source": [
    "#Check for missing values\n",
    "print(credit.isnull().any()) #there are two missing values in MontlyIncome and NumberOfDependents"
   ]
  },
  {
   "cell_type": "code",
   "execution_count": 3,
   "metadata": {},
   "outputs": [
    {
     "name": "stdout",
     "output_type": "stream",
     "text": [
      "ID                                          0\n",
      "SeriousDlqin2yrs                            0\n",
      "RevolvingUtilizationOfUnsecuredLines        0\n",
      "age                                         0\n",
      "NumberOfTime30-59DaysPastDueNotWorse        0\n",
      "DebtRatio                                   0\n",
      "MonthlyIncome                           13001\n",
      "NumberOfOpenCreditLinesAndLoans             0\n",
      "NumberOfTimes90DaysLate                     0\n",
      "NumberRealEstateLoansOrLines                0\n",
      "NumberOfTime60-89DaysPastDueNotWorse        0\n",
      "NumberOfDependents                       1729\n",
      "dtype: int64\n"
     ]
    }
   ],
   "source": [
    "#check total number of missing values\n",
    "print(credit.isnull().sum())"
   ]
  },
  {
   "cell_type": "code",
   "execution_count": 4,
   "metadata": {},
   "outputs": [
    {
     "name": "stdout",
     "output_type": "stream",
     "text": [
      "Index(['MonthlyIncome', 'NumberOfDependents'], dtype='object')\n"
     ]
    }
   ],
   "source": [
    "credit_missing = credit.columns[credit.isnull().any()]\n",
    "print(credit_missing)"
   ]
  },
  {
   "cell_type": "code",
   "execution_count": 5,
   "metadata": {},
   "outputs": [
    {
     "name": "stdout",
     "output_type": "stream",
     "text": [
      "       MonthlyIncome  NumberOfDependents\n",
      "0             9120.0                 2.0\n",
      "1             2600.0                 1.0\n",
      "2             3042.0                 0.0\n",
      "3             3300.0                 0.0\n",
      "4            63588.0                 0.0\n",
      "...              ...                 ...\n",
      "65530         6166.0                 0.0\n",
      "65531         6304.0                 2.0\n",
      "65532         4607.0                 0.0\n",
      "65533            NaN                 0.0\n",
      "65534         8000.0                 3.0\n",
      "\n",
      "[65535 rows x 2 columns]\n"
     ]
    }
   ],
   "source": [
    "# Separate the columns\n",
    "Missing_columns = credit[['MonthlyIncome','NumberOfDependents']]\n",
    "print(Missing_columns)"
   ]
  },
  {
   "cell_type": "code",
   "execution_count": 6,
   "metadata": {},
   "outputs": [
    {
     "name": "stdout",
     "output_type": "stream",
     "text": [
      "MonthlyIncome         6609.615811\n",
      "NumberOfDependents       0.759944\n",
      "dtype: float64\n"
     ]
    }
   ],
   "source": [
    "# Check the average of column\n",
    "print(Missing_columns.mean())"
   ]
  },
  {
   "cell_type": "code",
   "execution_count": 8,
   "metadata": {},
   "outputs": [
    {
     "name": "stdout",
     "output_type": "stream",
     "text": [
      "MonthlyIncome         6610.0\n",
      "NumberOfDependents       1.0\n",
      "dtype: float64\n"
     ]
    }
   ],
   "source": [
    "#Round up the average\n",
    "\n",
    "print(round(Missing_columns.mean()))"
   ]
  },
  {
   "cell_type": "code",
   "execution_count": 12,
   "metadata": {},
   "outputs": [
    {
     "name": "stdout",
     "output_type": "stream",
     "text": [
      "MonthlyIncome         False\n",
      "NumberOfDependents    False\n",
      "dtype: bool\n"
     ]
    }
   ],
   "source": [
    "# MISSING VALUE IMPUTATION\n",
    "#Missing values can be imputed with a provided constant value, or using the statistics (mean, median or most frequent) of each column in which the missing values are located.\n",
    "\n",
    "credit_rep = Missing_columns.fillna(round(Missing_columns.mean()))\n",
    "print(credit_rep.isnull().any())\n"
   ]
  },
  {
   "cell_type": "code",
   "execution_count": 13,
   "metadata": {},
   "outputs": [
    {
     "name": "stdout",
     "output_type": "stream",
     "text": [
      "ID                                      False\n",
      "SeriousDlqin2yrs                        False\n",
      "RevolvingUtilizationOfUnsecuredLines    False\n",
      "age                                     False\n",
      "NumberOfTime30-59DaysPastDueNotWorse    False\n",
      "DebtRatio                               False\n",
      "MonthlyIncome                           False\n",
      "NumberOfOpenCreditLinesAndLoans         False\n",
      "NumberOfTimes90DaysLate                 False\n",
      "NumberRealEstateLoansOrLines            False\n",
      "NumberOfTime60-89DaysPastDueNotWorse    False\n",
      "NumberOfDependents                      False\n",
      "dtype: bool\n"
     ]
    }
   ],
   "source": [
    "# Put the treated columns in the original dataset\n",
    "credit[[\"MonthlyIncome\", \"NumberOfDependents\"]] = credit_rep\n",
    "print(credit.isnull().any())\n",
    "# There are no missing values after imputation"
   ]
  },
  {
   "cell_type": "code",
   "execution_count": 16,
   "metadata": {},
   "outputs": [
    {
     "name": "stdout",
     "output_type": "stream",
     "text": [
      "          ID  SeriousDlqin2yrs  RevolvingUtilizationOfUnsecuredLines  age  \\\n",
      "0          1                 1                              0.766127   45   \n",
      "1          2                 0                              0.957151   40   \n",
      "2          3                 0                              0.658180   38   \n",
      "3          4                 0                              0.233810   30   \n",
      "4          5                 0                              0.907239   49   \n",
      "...      ...               ...                                   ...  ...   \n",
      "65530  65531                 0                              0.877537   54   \n",
      "65531  65532                 0                              0.960672   37   \n",
      "65532  65533                 0                              0.019139   76   \n",
      "65533  65534                 1                              0.350679   55   \n",
      "65534  65535                 0                              0.941521   46   \n",
      "\n",
      "       NumberOfTime30-59DaysPastDueNotWorse    DebtRatio  MonthlyIncome  \\\n",
      "0                                         2     0.802982         9120.0   \n",
      "1                                         0     0.121876         2600.0   \n",
      "2                                         1     0.085113         3042.0   \n",
      "3                                         0     0.036050         3300.0   \n",
      "4                                         1     0.024926        63588.0   \n",
      "...                                     ...          ...            ...   \n",
      "65530                                     0     0.289282         6166.0   \n",
      "65531                                     5     0.624584         6304.0   \n",
      "65532                                     0     0.006727         4607.0   \n",
      "65533                                     3  6429.000000         6610.0   \n",
      "65534                                     3     0.274216         8000.0   \n",
      "\n",
      "       NumberOfOpenCreditLinesAndLoans  NumberOfTimes90DaysLate  \\\n",
      "0                                   13                        0   \n",
      "1                                    4                        0   \n",
      "2                                    2                        1   \n",
      "3                                    5                        0   \n",
      "4                                    7                        0   \n",
      "...                                ...                      ...   \n",
      "65530                                7                        0   \n",
      "65531                                7                        1   \n",
      "65532                                6                        0   \n",
      "65533                               17                        0   \n",
      "65534                                8                        1   \n",
      "\n",
      "       NumberRealEstateLoansOrLines  NumberOfTime60-89DaysPastDueNotWorse  \\\n",
      "0                                 6                                     0   \n",
      "1                                 0                                     0   \n",
      "2                                 0                                     0   \n",
      "3                                 0                                     0   \n",
      "4                                 1                                     0   \n",
      "...                             ...                                   ...   \n",
      "65530                             0                                     0   \n",
      "65531                             2                                     0   \n",
      "65532                             0                                     0   \n",
      "65533                             4                                     0   \n",
      "65534                             1                                     3   \n",
      "\n",
      "       NumberOfDependents  \n",
      "0                     2.0  \n",
      "1                     1.0  \n",
      "2                     0.0  \n",
      "3                     0.0  \n",
      "4                     0.0  \n",
      "...                   ...  \n",
      "65530                 0.0  \n",
      "65531                 2.0  \n",
      "65532                 0.0  \n",
      "65533                 0.0  \n",
      "65534                 3.0  \n",
      "\n",
      "[65535 rows x 12 columns]\n",
      "          ID  SeriousDlqin2yrs  RevolvingUtilizationOfUnsecuredLines  age  \\\n",
      "0          1                 1                              0.766127   45   \n",
      "1          2                 0                              0.957151   40   \n",
      "2          3                 0                              0.658180   38   \n",
      "3          4                 0                              0.233810   30   \n",
      "4          5                 0                              0.907239   49   \n",
      "...      ...               ...                                   ...  ...   \n",
      "65530  65531                 0                              0.877537   54   \n",
      "65531  65532                 0                              0.960672   37   \n",
      "65532  65533                 0                              0.019139   76   \n",
      "65533  65534                 1                              0.350679   55   \n",
      "65534  65535                 0                              0.941521   46   \n",
      "\n",
      "       NumberOfTime30-59DaysPastDueNotWorse    DebtRatio  MonthlyIncome  \\\n",
      "0                                         2     0.802982         9120.0   \n",
      "1                                         0     0.121876         2600.0   \n",
      "2                                         1     0.085113         3042.0   \n",
      "3                                         0     0.036050         3300.0   \n",
      "4                                         1     0.024926        63588.0   \n",
      "...                                     ...          ...            ...   \n",
      "65530                                     0     0.289282         6166.0   \n",
      "65531                                     5     0.624584         6304.0   \n",
      "65532                                     0     0.006727         4607.0   \n",
      "65533                                     3  6429.000000         6610.0   \n",
      "65534                                     3     0.274216         8000.0   \n",
      "\n",
      "       NumberOfOpenCreditLinesAndLoans  NumberOfTimes90DaysLate  \\\n",
      "0                                   13                        0   \n",
      "1                                    4                        0   \n",
      "2                                    2                        1   \n",
      "3                                    5                        0   \n",
      "4                                    7                        0   \n",
      "...                                ...                      ...   \n",
      "65530                                7                        0   \n",
      "65531                                7                        1   \n",
      "65532                                6                        0   \n",
      "65533                               17                        0   \n",
      "65534                                8                        1   \n",
      "\n",
      "       NumberRealEstateLoansOrLines  NumberOfTime60-89DaysPastDueNotWorse  \\\n",
      "0                                 6                                     0   \n",
      "1                                 0                                     0   \n",
      "2                                 0                                     0   \n",
      "3                                 0                                     0   \n",
      "4                                 1                                     0   \n",
      "...                             ...                                   ...   \n",
      "65530                             0                                     0   \n",
      "65531                             2                                     0   \n",
      "65532                             0                                     0   \n",
      "65533                             4                                     0   \n",
      "65534                             1                                     3   \n",
      "\n",
      "       NumberOfDependents  \n",
      "0                     2.0  \n",
      "1                     1.0  \n",
      "2                     0.0  \n",
      "3                     0.0  \n",
      "4                     0.0  \n",
      "...                   ...  \n",
      "65530                 0.0  \n",
      "65531                 2.0  \n",
      "65532                 0.0  \n",
      "65533                 0.0  \n",
      "65534                 3.0  \n",
      "\n",
      "[65535 rows x 12 columns]\n"
     ]
    }
   ],
   "source": [
    "# TO DROP MISSING VALUES\n",
    "\n",
    "# credit.dropna()\n",
    "\n",
    "# Remove Duplicates\n",
    "# sorting by first name \n",
    "credit.sort_values(\"ID\", inplace = True)\n",
    "\n",
    "print(credit)\n",
    "  \n",
    "#dropping ALL duplicte values \n",
    "credit.drop_duplicates(subset =\"ID\",keep = False, inplace = True)\n",
    "# There are no duplicate values in attriblue \"ID\"\n",
    "print(credit)"
   ]
  },
  {
   "cell_type": "code",
   "execution_count": 28,
   "metadata": {},
   "outputs": [
    {
     "data": {
      "image/png": "[encoded data removed]",
      "text/plain": [
       "<Figure size 3240x504 with 1 Axes>"
      ]
     },
     "metadata": {
      "needs_background": "light"
     },
     "output_type": "display_data"
    }
   ],
   "source": [
    "# OutLier Treatment\n",
    "import matplotlib.pyplot as plt\n",
    "import seaborn as sns\n",
    "# Boxplit to check outlier\n",
    "plt.figure(figsize=(45,7))\n",
    "sns.boxplot(data=credit)\n",
    "plt.show()\n",
    "# DebtRatio , MonthlyIncome have outliers"
   ]
  },
  {
   "cell_type": "code",
   "execution_count": 34,
   "metadata": {},
   "outputs": [
    {
     "name": "stdout",
     "output_type": "stream",
     "text": [
      "Iqr: 3477.0\n"
     ]
    }
   ],
   "source": [
    "# TREATMENT OF OUTLIER\n",
    "# Q1 : .25\n",
    "# Q3 : .75\n",
    "# INTERQUARTILE RANGE(IQR) : Q3-Q1\n",
    "\n",
    "import scipy\n",
    "from scipy.stats import iqr\n",
    "import numpy as np\n",
    "\n",
    "q1 = credit[\"MonthlyIncome\"].quantile(.25)\n",
    "q3 = credit[\"MonthlyIncome\"].quantile(.75)\n",
    "\n",
    "print(\"Iqr:\", q3-q1)"
   ]
  },
  {
   "cell_type": "code",
   "execution_count": 35,
   "metadata": {},
   "outputs": [
    {
     "name": "stdout",
     "output_type": "stream",
     "text": [
      "LW: -1310.5\n",
      "UW: 12597.5\n"
     ]
    }
   ],
   "source": [
    "#get the lower bound and upper bound\n",
    "Lower_Whisker = q1 - (q3 - q1) * 1.5\n",
    "print(\"LW:\",Lower_Whisker )\n",
    "\n",
    "Upper_Whisker = q3 + (q3 - q1) * 1.5\n",
    "print(\"UW:\",Upper_Whisker )"
   ]
  },
  {
   "cell_type": "code",
   "execution_count": 36,
   "metadata": {},
   "outputs": [],
   "source": [
    "#Outlier treatment for MonthlyIncome\n",
    "credit[\"MonthlyIncome\"] = np.where(credit[\"MonthlyIncome\"] < Lower_Whisker, Lower_Whisker, credit[\"MonthlyIncome\"])\n",
    "credit[\"MonthlyIncome\"] = np.where(credit[\"MonthlyIncome\"] > Upper_Whisker, Upper_Whisker, credit[\"MonthlyIncome\"])"
   ]
  },
  {
   "cell_type": "code",
   "execution_count": 37,
   "metadata": {},
   "outputs": [
    {
     "data": {
      "image/png": "[encoded data removed]",
      "text/plain": [
       "<Figure size 1584x504 with 1 Axes>"
      ]
     },
     "metadata": {
      "needs_background": "light"
     },
     "output_type": "display_data"
    }
   ],
   "source": [
    "#check the outlier for MontlyIncome\n",
    "plt.figure(figsize=(22, 7))\n",
    "sns.boxplot(data=credit[\"MonthlyIncome\"])\n",
    "plt.show()"
   ]
  },
  {
   "cell_type": "code",
   "execution_count": 40,
   "metadata": {},
   "outputs": [
    {
     "name": "stdout",
     "output_type": "stream",
     "text": [
      "Iqr: 0.6950634735\n",
      "LW: -0.86858860325\n",
      "UW: 1.91166529075\n"
     ]
    }
   ],
   "source": [
    "#Outlier treatment for DebtRatio\n",
    "\n",
    "q1 = credit[\"DebtRatio\"].quantile(.25)\n",
    "q3 = credit[\"DebtRatio\"].quantile(.75)\n",
    "\n",
    "print(\"Iqr:\", q3-q1)\n",
    "Lower_Whisker = q1 - (q3 - q1) * 1.5\n",
    "print(\"LW:\",Lower_Whisker )\n",
    "\n",
    "Upper_Whisker = q3 + (q3 - q1) * 1.5\n",
    "print(\"UW:\",Upper_Whisker )\n",
    "credit[\"DebtRatio\"] = np.where(credit[\"DebtRatio\"] < Lower_Whisker, Lower_Whisker, credit[\"DebtRatio\"])\n",
    "credit[\"DebtRatio\"] = np.where(credit[\"DebtRatio\"] > Upper_Whisker, Upper_Whisker, credit[\"DebtRatio\"])\n",
    "\n"
   ]
  },
  {
   "cell_type": "code",
   "execution_count": 41,
   "metadata": {},
   "outputs": [
    {
     "data": {
      "image/png": "[encoded data removed]",
      "text/plain": [
       "<Figure size 1584x504 with 1 Axes>"
      ]
     },
     "metadata": {
      "needs_background": "light"
     },
     "output_type": "display_data"
    }
   ],
   "source": [
    "#check the outlier for DebtRatio\n",
    "plt.figure(figsize=(22, 7))\n",
    "sns.boxplot(data=credit[\"DebtRatio\"])\n",
    "plt.show()"
   ]
  },
  {
   "cell_type": "code",
   "execution_count": 42,
   "metadata": {},
   "outputs": [
    {
     "data": {
      "image/png": "[encoded data removed]",
      "text/plain": [
       "<Figure size 3240x504 with 1 Axes>"
      ]
     },
     "metadata": {
      "needs_background": "light"
     },
     "output_type": "display_data"
    }
   ],
   "source": [
    "plt.figure(figsize=(45,7))\n",
    "sns.boxplot(data=credit)\n",
    "plt.show()"
   ]
  },
  {
   "cell_type": "code",
   "execution_count": 43,
   "metadata": {},
   "outputs": [
    {
     "name": "stdout",
     "output_type": "stream",
     "text": [
      "Iqr: 0.5348114249999999\n",
      "LW: -0.7724140714999997\n",
      "UW: 1.3668316284999997\n"
     ]
    },
    {
     "data": {
      "image/png": "[encoded data removed]",
      "text/plain": [
       "<Figure size 1584x504 with 1 Axes>"
      ]
     },
     "metadata": {
      "needs_background": "light"
     },
     "output_type": "display_data"
    }
   ],
   "source": [
    "# There was another outlier on RevolvingUtilizationOfUnsecuredLines\n",
    "#Outlier treatment for RevolvingUtilizationOfUnsecuredLines\n",
    "\n",
    "q1 = credit[\"RevolvingUtilizationOfUnsecuredLines\"].quantile(.25)\n",
    "q3 = credit[\"RevolvingUtilizationOfUnsecuredLines\"].quantile(.75)\n",
    "\n",
    "print(\"Iqr:\", q3-q1)\n",
    "Lower_Whisker = q1 - (q3 - q1) * 1.5\n",
    "print(\"LW:\",Lower_Whisker )\n",
    "\n",
    "Upper_Whisker = q3 + (q3 - q1) * 1.5\n",
    "print(\"UW:\",Upper_Whisker )\n",
    "credit[\"RevolvingUtilizationOfUnsecuredLines\"] = np.where(credit[\"RevolvingUtilizationOfUnsecuredLines\"] < Lower_Whisker, Lower_Whisker, credit[\"RevolvingUtilizationOfUnsecuredLines\"])\n",
    "credit[\"RevolvingUtilizationOfUnsecuredLines\"] = np.where(credit[\"RevolvingUtilizationOfUnsecuredLines\"] > Upper_Whisker, Upper_Whisker, credit[\"RevolvingUtilizationOfUnsecuredLines\"])\n",
    "\n",
    "#check the outlier for RevolvingUtilizationOfUnsecuredLines\n",
    "plt.figure(figsize=(22, 7))\n",
    "sns.boxplot(data=credit[\"RevolvingUtilizationOfUnsecuredLines\"])\n",
    "plt.show()"
   ]
  },
  {
   "cell_type": "code",
   "execution_count": 44,
   "metadata": {},
   "outputs": [
    {
     "data": {
      "image/png": "[encoded data removed]",
      "text/plain": [
       "<Figure size 3240x504 with 1 Axes>"
      ]
     },
     "metadata": {
      "needs_background": "light"
     },
     "output_type": "display_data"
    }
   ],
   "source": [
    "plt.figure(figsize=(45,7))\n",
    "sns.boxplot(data=credit)\n",
    "plt.show()"
   ]
  },
  {
   "cell_type": "code",
   "execution_count": null,
   "metadata": {},
   "outputs": [],
   "source": [
    "#it seems there is no more outlier"
   ]
  }
 ],
 "metadata": {
  "kernelspec": {
   "display_name": "Python 3",
   "language": "python",
   "name": "python3"
  },
  "language_info": {
   "codemirror_mode": {
    "name": "ipython",
    "version": 3
   },
   "file_extension": ".py",
   "mimetype": "text/x-python",
   "name": "python",
   "nbconvert_exporter": "python",
   "pygments_lexer": "ipython3",
   "version": "3.8.3"
  }
 },
 "nbformat": 4,
 "nbformat_minor": 4
}
