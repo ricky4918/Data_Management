{
 "cells": [
  {
   "cell_type": "code",
   "execution_count": null,
   "metadata": {},
   "outputs": [],
   "source": [
    "# INDEXING AND SLICING[2:6]\n",
    "\n",
    "# INDEXING : EXTRACT A SINGLE VALUE FROM DATASET\n",
    "# SLICING : EXTRACTION OF RANGE [2:6]\n",
    "\n",
    "# FIRST POINT : START POINT\n",
    "# LAST POINT : END POINT(N-1)\n",
    "# LOC & ILOC\n",
    "# NEGATIVE INDEXING : REVERSE COUNTING\n",
    "\n",
    "# INDEXING & SLICING : [], [[]]"
   ]
  },
  {
   "cell_type": "code",
   "execution_count": 1,
   "metadata": {},
   "outputs": [
    {
     "name": "stdout",
     "output_type": "stream",
     "text": [
      "<bound method NDFrame.head of        Unnamed: 0  Unnamed: 1  RevolvingUtilizationOfUnsecuredLines  age  \\\n",
      "0               0           0                              0.766127   45   \n",
      "1               1           1                              0.957151   40   \n",
      "2               2           2                              0.658180   38   \n",
      "3               3           3                              0.233810   30   \n",
      "4               4           4                              0.907239   49   \n",
      "...           ...         ...                                   ...  ...   \n",
      "65530       65530       65530                              0.877537   54   \n",
      "65531       65531       65531                              0.960672   37   \n",
      "65532       65532       65532                              0.019139   76   \n",
      "65533       65533       65533                              0.350679   55   \n",
      "65534       65534       65534                              0.941521   46   \n",
      "\n",
      "       NumberOfTime30-59DaysPastDueNotWorse  DebtRatio  MonthlyIncome  \\\n",
      "0                                         2   0.802982         9120.0   \n",
      "1                                         0   0.121876         2600.0   \n",
      "2                                         1   0.085113         3042.0   \n",
      "3                                         0   0.036050         3300.0   \n",
      "4                                         1   0.024926        12597.5   \n",
      "...                                     ...        ...            ...   \n",
      "65530                                     0   0.289282         6166.0   \n",
      "65531                                     5   0.624584         6304.0   \n",
      "65532                                     0   0.006727         4607.0   \n",
      "65533                                     3   1.911665         5388.0   \n",
      "65534                                     3   0.274216         8000.0   \n",
      "\n",
      "       NumberOfOpenCreditLinesAndLoans  NumberOfTimes90DaysLate  \\\n",
      "0                                   13                        0   \n",
      "1                                    4                        0   \n",
      "2                                    2                        1   \n",
      "3                                    5                        0   \n",
      "4                                    7                        0   \n",
      "...                                ...                      ...   \n",
      "65530                                7                        0   \n",
      "65531                                7                        1   \n",
      "65532                                6                        0   \n",
      "65533                               17                        0   \n",
      "65534                                8                        1   \n",
      "\n",
      "       NumberRealEstateLoansOrLines  NumberOfTime60-89DaysPastDueNotWorse  \\\n",
      "0                                 6                                     0   \n",
      "1                                 0                                     0   \n",
      "2                                 0                                     0   \n",
      "3                                 0                                     0   \n",
      "4                                 1                                     0   \n",
      "...                             ...                                   ...   \n",
      "65530                             0                                     0   \n",
      "65531                             2                                     0   \n",
      "65532                             0                                     0   \n",
      "65533                             4                                     0   \n",
      "65534                             1                                     3   \n",
      "\n",
      "       NumberOfDependents  SeriousDlqin2yrs  \n",
      "0                       2                 1  \n",
      "1                       1                 0  \n",
      "2                       0                 0  \n",
      "3                       0                 0  \n",
      "4                       0                 0  \n",
      "...                   ...               ...  \n",
      "65530                   0                 0  \n",
      "65531                   2                 0  \n",
      "65532                   0                 0  \n",
      "65533                   0                 1  \n",
      "65534                   3                 0  \n",
      "\n",
      "[65535 rows x 13 columns]>\n"
     ]
    }
   ],
   "source": [
    "import pandas as pd\n",
    "import os.path\n",
    "bank = pd.read_csv(os.path.expanduser(\"~/desktop/Codersdata/Datasheet/SampleBankdata.csv\"))\n",
    "print(bank.head)"
   ]
  },
  {
   "cell_type": "code",
   "execution_count": 2,
   "metadata": {},
   "outputs": [
    {
     "name": "stdout",
     "output_type": "stream",
     "text": [
      "<bound method NDFrame.head of        Unnamed: 1  RevolvingUtilizationOfUnsecuredLines  age  \\\n",
      "0               0                              0.766127   45   \n",
      "1               1                              0.957151   40   \n",
      "2               2                              0.658180   38   \n",
      "3               3                              0.233810   30   \n",
      "4               4                              0.907239   49   \n",
      "...           ...                                   ...  ...   \n",
      "65530       65530                              0.877537   54   \n",
      "65531       65531                              0.960672   37   \n",
      "65532       65532                              0.019139   76   \n",
      "65533       65533                              0.350679   55   \n",
      "65534       65534                              0.941521   46   \n",
      "\n",
      "       NumberOfTime30-59DaysPastDueNotWorse  DebtRatio  MonthlyIncome  \\\n",
      "0                                         2   0.802982         9120.0   \n",
      "1                                         0   0.121876         2600.0   \n",
      "2                                         1   0.085113         3042.0   \n",
      "3                                         0   0.036050         3300.0   \n",
      "4                                         1   0.024926        12597.5   \n",
      "...                                     ...        ...            ...   \n",
      "65530                                     0   0.289282         6166.0   \n",
      "65531                                     5   0.624584         6304.0   \n",
      "65532                                     0   0.006727         4607.0   \n",
      "65533                                     3   1.911665         5388.0   \n",
      "65534                                     3   0.274216         8000.0   \n",
      "\n",
      "       NumberOfOpenCreditLinesAndLoans  NumberOfTimes90DaysLate  \\\n",
      "0                                   13                        0   \n",
      "1                                    4                        0   \n",
      "2                                    2                        1   \n",
      "3                                    5                        0   \n",
      "4                                    7                        0   \n",
      "...                                ...                      ...   \n",
      "65530                                7                        0   \n",
      "65531                                7                        1   \n",
      "65532                                6                        0   \n",
      "65533                               17                        0   \n",
      "65534                                8                        1   \n",
      "\n",
      "       NumberRealEstateLoansOrLines  NumberOfTime60-89DaysPastDueNotWorse  \\\n",
      "0                                 6                                     0   \n",
      "1                                 0                                     0   \n",
      "2                                 0                                     0   \n",
      "3                                 0                                     0   \n",
      "4                                 1                                     0   \n",
      "...                             ...                                   ...   \n",
      "65530                             0                                     0   \n",
      "65531                             2                                     0   \n",
      "65532                             0                                     0   \n",
      "65533                             4                                     0   \n",
      "65534                             1                                     3   \n",
      "\n",
      "       NumberOfDependents  SeriousDlqin2yrs  \n",
      "0                       2                 1  \n",
      "1                       1                 0  \n",
      "2                       0                 0  \n",
      "3                       0                 0  \n",
      "4                       0                 0  \n",
      "...                   ...               ...  \n",
      "65530                   0                 0  \n",
      "65531                   2                 0  \n",
      "65532                   0                 0  \n",
      "65533                   0                 1  \n",
      "65534                   3                 0  \n",
      "\n",
      "[65535 rows x 12 columns]>\n"
     ]
    }
   ],
   "source": [
    "# DROP THE FIRST COLUMN\n",
    "# axis = 1 : columns\n",
    "# axis = 0 : rows\n",
    "bank = bank.drop([\"Unnamed: 0\"],axis = 1)\n",
    "print(bank.head)"
   ]
  },
  {
   "cell_type": "code",
   "execution_count": 3,
   "metadata": {},
   "outputs": [
    {
     "name": "stdout",
     "output_type": "stream",
     "text": [
      "(65535, 12)\n"
     ]
    }
   ],
   "source": [
    "# DIMENSION OF DATASET\n",
    "print(bank.shape)"
   ]
  },
  {
   "cell_type": "code",
   "execution_count": null,
   "metadata": {},
   "outputs": [],
   "source": [
    "# To get the name of columns"
   ]
  },
  {
   "cell_type": "code",
   "execution_count": 4,
   "metadata": {},
   "outputs": [
    {
     "name": "stdout",
     "output_type": "stream",
     "text": [
      "Index(['Unnamed: 1', 'RevolvingUtilizationOfUnsecuredLines', 'age',\n",
      "       'NumberOfTime30-59DaysPastDueNotWorse', 'DebtRatio', 'MonthlyIncome',\n",
      "       'NumberOfOpenCreditLinesAndLoans', 'NumberOfTimes90DaysLate',\n",
      "       'NumberRealEstateLoansOrLines', 'NumberOfTime60-89DaysPastDueNotWorse',\n",
      "       'NumberOfDependents', 'SeriousDlqin2yrs'],\n",
      "      dtype='object')\n"
     ]
    }
   ],
   "source": [
    "bank_column = bank.columns\n",
    "print(bank_column)"
   ]
  },
  {
   "cell_type": "code",
   "execution_count": 6,
   "metadata": {},
   "outputs": [
    {
     "name": "stdout",
     "output_type": "stream",
     "text": [
      "       age\n",
      "0       45\n",
      "1       40\n",
      "2       38\n",
      "3       30\n",
      "4       49\n",
      "...    ...\n",
      "65530   54\n",
      "65531   37\n",
      "65532   76\n",
      "65533   55\n",
      "65534   46\n",
      "\n",
      "[65535 rows x 1 columns]\n"
     ]
    }
   ],
   "source": [
    "# DIFFERENCE BETWEEN SERIES AND DATAFRAME\n",
    "# [[]] : DATAFRAME, LABEL COLUMN\n",
    "# [] : SERIES , UNLABELLED\n",
    "\n",
    "print(bank[[\"age\"]])"
   ]
  },
  {
   "cell_type": "code",
   "execution_count": 7,
   "metadata": {},
   "outputs": [
    {
     "name": "stdout",
     "output_type": "stream",
     "text": [
      "0        45\n",
      "1        40\n",
      "2        38\n",
      "3        30\n",
      "4        49\n",
      "         ..\n",
      "65530    54\n",
      "65531    37\n",
      "65532    76\n",
      "65533    55\n",
      "65534    46\n",
      "Name: age, Length: 65535, dtype: int64\n"
     ]
    }
   ],
   "source": [
    "print(bank[\"age\"])"
   ]
  },
  {
   "cell_type": "code",
   "execution_count": 8,
   "metadata": {},
   "outputs": [
    {
     "name": "stdout",
     "output_type": "stream",
     "text": [
      "       NumberOfDependents  DebtRatio\n",
      "0                       2   0.802982\n",
      "1                       1   0.121876\n",
      "2                       0   0.085113\n",
      "3                       0   0.036050\n",
      "4                       0   0.024926\n",
      "...                   ...        ...\n",
      "65530                   0   0.289282\n",
      "65531                   2   0.624584\n",
      "65532                   0   0.006727\n",
      "65533                   0   1.911665\n",
      "65534                   3   0.274216\n",
      "\n",
      "[65535 rows x 2 columns]\n"
     ]
    }
   ],
   "source": [
    "#To call multiple columns\n",
    "\n",
    "print(bank[[\"NumberOfDependents\", \"DebtRatio\", ]])"
   ]
  },
  {
   "cell_type": "code",
   "execution_count": 10,
   "metadata": {},
   "outputs": [
    {
     "name": "stdout",
     "output_type": "stream",
     "text": [
      "   Unnamed: 1  RevolvingUtilizationOfUnsecuredLines  age  \\\n",
      "4           4                              0.907239   49   \n",
      "\n",
      "   NumberOfTime30-59DaysPastDueNotWorse  DebtRatio  MonthlyIncome  \\\n",
      "4                                     1   0.024926        12597.5   \n",
      "\n",
      "   NumberOfOpenCreditLinesAndLoans  NumberOfTimes90DaysLate  \\\n",
      "4                                7                        0   \n",
      "\n",
      "   NumberRealEstateLoansOrLines  NumberOfTime60-89DaysPastDueNotWorse  \\\n",
      "4                             1                                     0   \n",
      "\n",
      "   NumberOfDependents  SeriousDlqin2yrs  \n",
      "4                   0                 0  \n",
      "Unnamed: 1                                  4.000000\n",
      "RevolvingUtilizationOfUnsecuredLines        0.907239\n",
      "age                                        49.000000\n",
      "NumberOfTime30-59DaysPastDueNotWorse        1.000000\n",
      "DebtRatio                                   0.024926\n",
      "MonthlyIncome                           12597.500000\n",
      "NumberOfOpenCreditLinesAndLoans             7.000000\n",
      "NumberOfTimes90DaysLate                     0.000000\n",
      "NumberRealEstateLoansOrLines                1.000000\n",
      "NumberOfTime60-89DaysPastDueNotWorse        0.000000\n",
      "NumberOfDependents                          0.000000\n",
      "SeriousDlqin2yrs                            0.000000\n",
      "Name: 4, dtype: float64\n"
     ]
    }
   ],
   "source": [
    "# DIFFERENCE BETWEEN LOC AND ILOC : LOC IS BASED ON LABELS AND ILOC IS BASED ON INTEGERS\n",
    "\n",
    "#LOC is alsow used to set the condition statments\n",
    "#ILOC is used for negative indexing(reverse counting)\n",
    "\n",
    "print(bank.loc[[4]])\n",
    "print(bank.loc[4])"
   ]
  },
  {
   "cell_type": "code",
   "execution_count": 12,
   "metadata": {},
   "outputs": [
    {
     "name": "stdout",
     "output_type": "stream",
     "text": [
      "   Unnamed: 1  RevolvingUtilizationOfUnsecuredLines  age  \\\n",
      "3           3                              0.233810   30   \n",
      "5           5                              0.213179   74   \n",
      "7           7                              0.754464   39   \n",
      "\n",
      "   NumberOfTime30-59DaysPastDueNotWorse  DebtRatio  MonthlyIncome  \\\n",
      "3                                     0   0.036050         3300.0   \n",
      "5                                     0   0.375607         3500.0   \n",
      "7                                     0   0.209940         3500.0   \n",
      "\n",
      "   NumberOfOpenCreditLinesAndLoans  NumberOfTimes90DaysLate  \\\n",
      "3                                5                        0   \n",
      "5                                3                        0   \n",
      "7                                8                        0   \n",
      "\n",
      "   NumberRealEstateLoansOrLines  NumberOfTime60-89DaysPastDueNotWorse  \\\n",
      "3                             0                                     0   \n",
      "5                             1                                     0   \n",
      "7                             0                                     0   \n",
      "\n",
      "   NumberOfDependents  SeriousDlqin2yrs  \n",
      "3                   0                 0  \n",
      "5                   1                 0  \n",
      "7                   0                 0  \n"
     ]
    }
   ],
   "source": [
    "print(bank.loc[[3,5,7]])"
   ]
  },
  {
   "cell_type": "code",
   "execution_count": 13,
   "metadata": {},
   "outputs": [
    {
     "name": "stdout",
     "output_type": "stream",
     "text": [
      "       DebtRatio\n",
      "0       0.802982\n",
      "1       0.121876\n",
      "2       0.085113\n",
      "3       0.036050\n",
      "4       0.024926\n",
      "...          ...\n",
      "65527   0.450130\n",
      "65529   0.664103\n",
      "65530   0.289282\n",
      "65531   0.624584\n",
      "65534   0.274216\n",
      "\n",
      "[37093 rows x 1 columns]\n"
     ]
    }
   ],
   "source": [
    "# CONDITIONAL STATEMENT(loc)\n",
    "print(bank.loc[bank[\"age\"] < 55, [\"DebtRatio\"]])"
   ]
  },
  {
   "cell_type": "code",
   "execution_count": 14,
   "metadata": {},
   "outputs": [
    {
     "name": "stdout",
     "output_type": "stream",
     "text": [
      "       DebtRatio  MonthlyIncome  NumberOfDependents\n",
      "5       0.375607         3500.0                   1\n",
      "14      1.911665            0.0                   0\n",
      "15      0.209892        11362.0                   2\n",
      "16      1.911665         5388.0                   0\n",
      "27      0.042383         2500.0                   1\n",
      "...          ...            ...                 ...\n",
      "65511   0.005267         7783.0                   0\n",
      "65517   0.372478         5500.0                   0\n",
      "65522   0.150740         2500.0                   0\n",
      "65528   1.911665         5388.0                   2\n",
      "65532   0.006727         4607.0                   0\n",
      "\n",
      "[19484 rows x 3 columns]\n"
     ]
    }
   ],
   "source": [
    "print(bank.loc[bank[\"age\"] > 60, [\"DebtRatio\",\"MonthlyIncome\",\"NumberOfDependents\"]])"
   ]
  },
  {
   "cell_type": "code",
   "execution_count": 15,
   "metadata": {},
   "outputs": [
    {
     "name": "stdout",
     "output_type": "stream",
     "text": [
      "   NumberOfTime30-59DaysPastDueNotWorse  NumberOfOpenCreditLinesAndLoans  \\\n",
      "2                                     1                                2   \n",
      "5                                     0                                3   \n",
      "7                                     0                                8   \n",
      "\n",
      "   NumberRealEstateLoansOrLines  \n",
      "2                             0  \n",
      "5                             1  \n",
      "7                             0  \n"
     ]
    }
   ],
   "source": [
    "# ILOC : INTEGER BASED\n",
    "print(bank.iloc[[2,5,7],[3,6,8]])\n",
    "# 2,5,7 is colum number\n",
    "#3,6,8 is row number"
   ]
  },
  {
   "cell_type": "code",
   "execution_count": 16,
   "metadata": {},
   "outputs": [
    {
     "name": "stdout",
     "output_type": "stream",
     "text": [
      "       Unnamed: 1  RevolvingUtilizationOfUnsecuredLines  age  \\\n",
      "65534       65534                              0.941521   46   \n",
      "\n",
      "       NumberOfTime30-59DaysPastDueNotWorse  DebtRatio  MonthlyIncome  \\\n",
      "65534                                     3   0.274216         8000.0   \n",
      "\n",
      "       NumberOfOpenCreditLinesAndLoans  NumberOfTimes90DaysLate  \\\n",
      "65534                                8                        1   \n",
      "\n",
      "       NumberRealEstateLoansOrLines  NumberOfTime60-89DaysPastDueNotWorse  \\\n",
      "65534                             1                                     3   \n",
      "\n",
      "       NumberOfDependents  SeriousDlqin2yrs  \n",
      "65534                   3                 0  \n"
     ]
    }
   ],
   "source": [
    "#print the last row\n",
    "print(bank.iloc[[-1]])"
   ]
  },
  {
   "cell_type": "code",
   "execution_count": 17,
   "metadata": {},
   "outputs": [
    {
     "name": "stdout",
     "output_type": "stream",
     "text": [
      "       Unnamed: 1  RevolvingUtilizationOfUnsecuredLines  age  \\\n",
      "0               0                              0.766127   45   \n",
      "1               1                              0.957151   40   \n",
      "2               2                              0.658180   38   \n",
      "3               3                              0.233810   30   \n",
      "4               4                              0.907239   49   \n",
      "...           ...                                   ...  ...   \n",
      "65530       65530                              0.877537   54   \n",
      "65531       65531                              0.960672   37   \n",
      "65532       65532                              0.019139   76   \n",
      "65533       65533                              0.350679   55   \n",
      "65534       65534                              0.941521   46   \n",
      "\n",
      "       NumberOfTime30-59DaysPastDueNotWorse  DebtRatio  MonthlyIncome  \\\n",
      "0                                         2   0.802982         9120.0   \n",
      "1                                         0   0.121876         2600.0   \n",
      "2                                         1   0.085113         3042.0   \n",
      "3                                         0   0.036050         3300.0   \n",
      "4                                         1   0.024926        12597.5   \n",
      "...                                     ...        ...            ...   \n",
      "65530                                     0   0.289282         6166.0   \n",
      "65531                                     5   0.624584         6304.0   \n",
      "65532                                     0   0.006727         4607.0   \n",
      "65533                                     3   1.911665         5388.0   \n",
      "65534                                     3   0.274216         8000.0   \n",
      "\n",
      "       NumberOfOpenCreditLinesAndLoans  NumberOfTimes90DaysLate  \\\n",
      "0                                   13                        0   \n",
      "1                                    4                        0   \n",
      "2                                    2                        1   \n",
      "3                                    5                        0   \n",
      "4                                    7                        0   \n",
      "...                                ...                      ...   \n",
      "65530                                7                        0   \n",
      "65531                                7                        1   \n",
      "65532                                6                        0   \n",
      "65533                               17                        0   \n",
      "65534                                8                        1   \n",
      "\n",
      "       NumberRealEstateLoansOrLines  NumberOfTime60-89DaysPastDueNotWorse  \\\n",
      "0                                 6                                     0   \n",
      "1                                 0                                     0   \n",
      "2                                 0                                     0   \n",
      "3                                 0                                     0   \n",
      "4                                 1                                     0   \n",
      "...                             ...                                   ...   \n",
      "65530                             0                                     0   \n",
      "65531                             2                                     0   \n",
      "65532                             0                                     0   \n",
      "65533                             4                                     0   \n",
      "65534                             1                                     3   \n",
      "\n",
      "       NumberOfDependents  SeriousDlqin2yrs  \n",
      "0                       2                 1  \n",
      "1                       1                 0  \n",
      "2                       0                 0  \n",
      "3                       0                 0  \n",
      "4                       0                 0  \n",
      "...                   ...               ...  \n",
      "65530                   0                 0  \n",
      "65531                   2                 0  \n",
      "65532                   0                 0  \n",
      "65533                   0                 1  \n",
      "65534                   3                 0  \n",
      "\n",
      "[65535 rows x 12 columns]\n"
     ]
    }
   ],
   "source": [
    "# TO COPY ORIGINAL DATASET\n",
    "print(bank[:])"
   ]
  },
  {
   "cell_type": "code",
   "execution_count": 18,
   "metadata": {},
   "outputs": [
    {
     "name": "stdout",
     "output_type": "stream",
     "text": [
      "       Unnamed: 1  RevolvingUtilizationOfUnsecuredLines  age  \\\n",
      "0               0                              0.766127   45   \n",
      "1               1                              0.957151   40   \n",
      "2               2                              0.658180   38   \n",
      "3               3                              0.233810   30   \n",
      "4               4                              0.907239   49   \n",
      "...           ...                                   ...  ...   \n",
      "65530       65530                              0.877537   54   \n",
      "65531       65531                              0.960672   37   \n",
      "65532       65532                              0.019139   76   \n",
      "65533       65533                              0.350679   55   \n",
      "65534       65534                              0.941521   46   \n",
      "\n",
      "       NumberOfTime30-59DaysPastDueNotWorse  DebtRatio  MonthlyIncome  \\\n",
      "0                                         2   0.802982         9120.0   \n",
      "1                                         0   0.121876         2600.0   \n",
      "2                                         1   0.085113         3042.0   \n",
      "3                                         0   0.036050         3300.0   \n",
      "4                                         1   0.024926        12597.5   \n",
      "...                                     ...        ...            ...   \n",
      "65530                                     0   0.289282         6166.0   \n",
      "65531                                     5   0.624584         6304.0   \n",
      "65532                                     0   0.006727         4607.0   \n",
      "65533                                     3   1.911665         5388.0   \n",
      "65534                                     3   0.274216         8000.0   \n",
      "\n",
      "       NumberOfOpenCreditLinesAndLoans  NumberOfTimes90DaysLate  \\\n",
      "0                                   13                        0   \n",
      "1                                    4                        0   \n",
      "2                                    2                        1   \n",
      "3                                    5                        0   \n",
      "4                                    7                        0   \n",
      "...                                ...                      ...   \n",
      "65530                                7                        0   \n",
      "65531                                7                        1   \n",
      "65532                                6                        0   \n",
      "65533                               17                        0   \n",
      "65534                                8                        1   \n",
      "\n",
      "       NumberRealEstateLoansOrLines  NumberOfTime60-89DaysPastDueNotWorse  \\\n",
      "0                                 6                                     0   \n",
      "1                                 0                                     0   \n",
      "2                                 0                                     0   \n",
      "3                                 0                                     0   \n",
      "4                                 1                                     0   \n",
      "...                             ...                                   ...   \n",
      "65530                             0                                     0   \n",
      "65531                             2                                     0   \n",
      "65532                             0                                     0   \n",
      "65533                             4                                     0   \n",
      "65534                             1                                     3   \n",
      "\n",
      "       NumberOfDependents  \n",
      "0                       2  \n",
      "1                       1  \n",
      "2                       0  \n",
      "3                       0  \n",
      "4                       0  \n",
      "...                   ...  \n",
      "65530                   0  \n",
      "65531                   2  \n",
      "65532                   0  \n",
      "65533                   0  \n",
      "65534                   3  \n",
      "\n",
      "[65535 rows x 11 columns]\n"
     ]
    }
   ],
   "source": [
    "#print without last columns\n",
    "print(bank.iloc[:, :-1])"
   ]
  },
  {
   "cell_type": "code",
   "execution_count": 19,
   "metadata": {},
   "outputs": [
    {
     "name": "stdout",
     "output_type": "stream",
     "text": [
      "       RevolvingUtilizationOfUnsecuredLines  age  \\\n",
      "0                                  0.766127   45   \n",
      "1                                  0.957151   40   \n",
      "2                                  0.658180   38   \n",
      "3                                  0.233810   30   \n",
      "4                                  0.907239   49   \n",
      "...                                     ...  ...   \n",
      "65530                              0.877537   54   \n",
      "65531                              0.960672   37   \n",
      "65532                              0.019139   76   \n",
      "65533                              0.350679   55   \n",
      "65534                              0.941521   46   \n",
      "\n",
      "       NumberOfTime30-59DaysPastDueNotWorse  DebtRatio  MonthlyIncome  \\\n",
      "0                                         2   0.802982         9120.0   \n",
      "1                                         0   0.121876         2600.0   \n",
      "2                                         1   0.085113         3042.0   \n",
      "3                                         0   0.036050         3300.0   \n",
      "4                                         1   0.024926        12597.5   \n",
      "...                                     ...        ...            ...   \n",
      "65530                                     0   0.289282         6166.0   \n",
      "65531                                     5   0.624584         6304.0   \n",
      "65532                                     0   0.006727         4607.0   \n",
      "65533                                     3   1.911665         5388.0   \n",
      "65534                                     3   0.274216         8000.0   \n",
      "\n",
      "       NumberOfOpenCreditLinesAndLoans  NumberOfTimes90DaysLate  \\\n",
      "0                                   13                        0   \n",
      "1                                    4                        0   \n",
      "2                                    2                        1   \n",
      "3                                    5                        0   \n",
      "4                                    7                        0   \n",
      "...                                ...                      ...   \n",
      "65530                                7                        0   \n",
      "65531                                7                        1   \n",
      "65532                                6                        0   \n",
      "65533                               17                        0   \n",
      "65534                                8                        1   \n",
      "\n",
      "       NumberRealEstateLoansOrLines  NumberOfTime60-89DaysPastDueNotWorse  \n",
      "0                                 6                                     0  \n",
      "1                                 0                                     0  \n",
      "2                                 0                                     0  \n",
      "3                                 0                                     0  \n",
      "4                                 1                                     0  \n",
      "...                             ...                                   ...  \n",
      "65530                             0                                     0  \n",
      "65531                             2                                     0  \n",
      "65532                             0                                     0  \n",
      "65533                             4                                     0  \n",
      "65534                             1                                     3  \n",
      "\n",
      "[65535 rows x 9 columns]\n"
     ]
    }
   ],
   "source": [
    "#print the column range(1~10)\n",
    "print(bank.iloc[:, 1:10])"
   ]
  },
  {
   "cell_type": "code",
   "execution_count": null,
   "metadata": {},
   "outputs": [],
   "source": []
  }
 ],
 "metadata": {
  "kernelspec": {
   "display_name": "Python 3",
   "language": "python",
   "name": "python3"
  },
  "language_info": {
   "codemirror_mode": {
    "name": "ipython",
    "version": 3
   },
   "file_extension": ".py",
   "mimetype": "text/x-python",
   "name": "python",
   "nbconvert_exporter": "python",
   "pygments_lexer": "ipython3",
   "version": "3.8.3"
  }
 },
 "nbformat": 4,
 "nbformat_minor": 4
}
