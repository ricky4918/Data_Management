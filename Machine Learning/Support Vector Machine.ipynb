{
 "cells": [
  {
   "cell_type": "code",
   "execution_count": 3,
   "metadata": {},
   "outputs": [
    {
     "name": "stdout",
     "output_type": "stream",
     "text": [
      "         city  bedroom  bathroom wifi    rent   income\n",
      "0    New York        3         1   No  1683.0  66149.0\n",
      "1      Boston        1         1  Yes  1032.0  40002.0\n",
      "2      Boston        3         1   No  2631.0  43149.0\n",
      "3     Chicago        1         2  Yes  2593.0  41956.0\n",
      "4    San Fran        2         2  Yes   768.0  33983.0\n",
      "..        ...      ...       ...  ...     ...      ...\n",
      "635  San Fran        3         1   No  1510.0  68575.0\n",
      "636    Boston        3         1  Yes  1061.0  30372.0\n",
      "637  San Fran        1         2  Yes  1504.0  61323.0\n",
      "638   Chicago        3         2  Yes  1615.0  60585.0\n",
      "639    Austin        1         2   No  1601.0  54473.0\n",
      "\n",
      "[640 rows x 6 columns]\n"
     ]
    }
   ],
   "source": [
    "# SVM : SUPPORT VECTOR MACHINE\n",
    "\n",
    "# KERNEL TRICK : LINEAR,SIGMOID (BINARY CLASSIFICATION)\n",
    "\n",
    "# LINEAR HYPERPLANE : LESS ACCURATE, FAST\n",
    "# SIGMOID : MORE ACCURATE, SLOW\n",
    "\n",
    "import pandas as pd\n",
    "import sklearn\n",
    "from sklearn.svm import SVC\n",
    "from sklearn.model_selection import train_test_split\n",
    "from sklearn.preprocessing import LabelEncoder\n",
    "from sklearn.preprocessing import LabelBinarizer\n",
    "from sklearn import metrics\n",
    "from sklearn.metrics import confusion_matrix, classification_report, accuracy_score\n",
    "import warnings\n",
    "import os.path\n",
    "warnings.filterwarnings(\"ignore\")\n",
    "\n",
    "\n",
    "house_data = pd.read_csv(\"/users/sanghyunryu/desktop/Trainning/Machine_Learning/Housing.CSV\")\n",
    "print(house_data)"
   ]
  },
  {
   "cell_type": "code",
   "execution_count": 4,
   "metadata": {},
   "outputs": [
    {
     "name": "stdout",
     "output_type": "stream",
     "text": [
      "0      3\n",
      "1      1\n",
      "2      1\n",
      "3      2\n",
      "4      4\n",
      "      ..\n",
      "635    4\n",
      "636    1\n",
      "637    4\n",
      "638    2\n",
      "639    0\n",
      "Name: city, Length: 640, dtype: int64\n",
      "     bedroom  bathroom    rent   income  city wifi\n",
      "0          3         1  1683.0  66149.0     3   No\n",
      "1          1         1  1032.0  40002.0     1  Yes\n",
      "2          3         1  2631.0  43149.0     1   No\n",
      "3          1         2  2593.0  41956.0     2  Yes\n",
      "4          2         2   768.0  33983.0     4  Yes\n",
      "..       ...       ...     ...      ...   ...  ...\n",
      "635        3         1  1510.0  68575.0     4   No\n",
      "636        3         1  1061.0  30372.0     1  Yes\n",
      "637        1         2  1504.0  61323.0     4  Yes\n",
      "638        3         2  1615.0  60585.0     2  Yes\n",
      "639        1         2  1601.0  54473.0     0   No\n",
      "\n",
      "[640 rows x 6 columns]\n"
     ]
    }
   ],
   "source": [
    "# SEPARATE NUMERIC AND CATEGORICAL COLUMNS\n",
    "\n",
    "house_num = house_data.select_dtypes(include = \"number\")\n",
    "house_cate = house_data.select_dtypes(exclude = \"number\")\n",
    "\n",
    "# LABEL ENCODER\n",
    "\n",
    "house_cate_city = house_cate.copy()\n",
    "\n",
    "label1 = LabelEncoder()\n",
    "\n",
    "house_cate_city[\"city\"] = label1.fit_transform(house_cate[\"city\"])\n",
    "print(house_cate_city[\"city\"])\n",
    "\n",
    "house_final = pd.concat([house_num, house_cate_city], axis = 1)\n",
    "print(house_final)"
   ]
  },
  {
   "cell_type": "code",
   "execution_count": 5,
   "metadata": {},
   "outputs": [
    {
     "name": "stdout",
     "output_type": "stream",
     "text": [
      "(384, 5)\n",
      "(256, 5)\n"
     ]
    }
   ],
   "source": [
    "# BINARY CLASSIFICATION\n",
    "y = house_final[[\"wifi\"]]\n",
    "x = house_final.drop([\"wifi\"], axis = 1)\n",
    "\n",
    "svm = SVC(kernel = \"sigmoid\")\n",
    "\n",
    "x_train,x_test,y_train,y_test = train_test_split(x,y,test_size = 0.4, random_state = 10)\n",
    "\n",
    "print(x_train.shape)\n",
    "\n",
    "print(x_test.shape)"
   ]
  },
  {
   "cell_type": "code",
   "execution_count": 6,
   "metadata": {},
   "outputs": [
    {
     "name": "stdout",
     "output_type": "stream",
     "text": [
      "[[53 68]\n",
      " [59 76]]\n",
      "              precision    recall  f1-score   support\n",
      "\n",
      "          No       0.47      0.44      0.45       121\n",
      "         Yes       0.53      0.56      0.54       135\n",
      "\n",
      "    accuracy                           0.50       256\n",
      "   macro avg       0.50      0.50      0.50       256\n",
      "weighted avg       0.50      0.50      0.50       256\n",
      "\n",
      "0.50390625\n"
     ]
    }
   ],
   "source": [
    "\n",
    "# FIT THE MODEL\n",
    "\n",
    "clf = svm.fit(x_train,y_train)\n",
    "\n",
    "# PREDICT THE MODEL\n",
    "\n",
    "y_pred = svm.predict(x_test)\n",
    "\n",
    "# COMPARISON OF ACTUAL AND PREDICTED VALUES\n",
    "\n",
    "print(confusion_matrix(y_test,y_pred))\n",
    "print(classification_report(y_test,y_pred))\n",
    "print(accuracy_score(y_test,y_pred))\n"
   ]
  },
  {
   "cell_type": "code",
   "execution_count": 8,
   "metadata": {},
   "outputs": [
    {
     "name": "stdout",
     "output_type": "stream",
     "text": [
      "ACCURACY_SCORE: 0.5915178571428571\n"
     ]
    }
   ],
   "source": [
    "import sklearn\n",
    "from sklearn.linear_model import LinearRegression\n",
    "from sklearn.linear_model import RidgeClassifier, Lasso\n",
    "\n",
    "# RIDGE REGRESSION (L2 NORM)\n",
    "reg = LinearRegression()\n",
    "reg\n",
    "\n",
    "x_train,x_test,y_train,y_test = train_test_split(x,y,test_size = 0.3)\n",
    "\n",
    "rr = RidgeClassifier(alpha = 0.1, normalize = True)\n",
    "rr.fit(x_train,y_train)\n",
    "\n",
    "rr.pred_train = rr.predict(x_train)\n",
    "\n",
    "print(\"ACCURACY_SCORE:\", metrics.accuracy_score(rr.pred_train,y_train))"
   ]
  },
  {
   "cell_type": "code",
   "execution_count": null,
   "metadata": {},
   "outputs": [],
   "source": []
  }
 ],
 "metadata": {
  "kernelspec": {
   "display_name": "Python 3",
   "language": "python",
   "name": "python3"
  },
  "language_info": {
   "codemirror_mode": {
    "name": "ipython",
    "version": 3
   },
   "file_extension": ".py",
   "mimetype": "text/x-python",
   "name": "python",
   "nbconvert_exporter": "python",
   "pygments_lexer": "ipython3",
   "version": "3.8.3"
  }
 },
 "nbformat": 4,
 "nbformat_minor": 4
}
