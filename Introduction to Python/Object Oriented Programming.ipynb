{
 "cells": [
  {
   "cell_type": "code",
   "execution_count": null,
   "metadata": {},
   "outputs": [],
   "source": [
    "# OBJECT : Attribute, behaviour \n",
    "# CLASS : to create an object\n",
    "\n",
    "# DIFFERENCE BETWEEN PARAMETER AND ARGUMENT\n",
    "\n",
    "# A parameter is the variable listed inside the parentheses in the function definition.\n",
    "\n",
    "# An argument is the value that are sent to the function when it is called.\n",
    "\n",
    "# METHODS : METHODS ARE FUNCTIONS THAT ARE USED TO DEFINE THE BEHAVIOUR OF OBJECT\n",
    "\n",
    "# INDENTATION : WHITE SPACE BEFORE CODE LINE(FUNCTION, CONDITIONAL STATEMENT, LOOP, OOPS)\n",
    "\n",
    "# self : represents the instance of the class. By using the “self” keyword we can access the attributes and methods of the class in python\n"
   ]
  },
  {
   "cell_type": "code",
   "execution_count": 8,
   "metadata": {},
   "outputs": [
    {
     "name": "stdout",
     "output_type": "stream",
     "text": [
      "{'department': 'Engineering', 'employees': 60} \n",
      " {'department': 'Management', 'employees': 90} \n",
      " {'department': 'science', 'employees': 70}\n"
     ]
    }
   ],
   "source": [
    "class college: \n",
    "    def __init__(self, department, employees): # constructor : used to create object\n",
    "        self.department = department\n",
    "        self.employees = employees\n",
    "        \n",
    "dep1 = college(\"Engineering\", 60)\n",
    "dep2 = college(\"Management\", 90)\n",
    "dep3 = college(\"science\", 70)\n",
    "\n",
    "print (dep1.__dict__,\"\\n\",dep2.__dict__,\"\\n\",dep3.__dict__)\n"
   ]
  },
  {
   "cell_type": "code",
   "execution_count": 19,
   "metadata": {},
   "outputs": [
    {
     "name": "stdout",
     "output_type": "stream",
     "text": [
      "{'department': 'Engineering', 'employees': 60, 'student': 900} \n",
      " {'department': 'Management', 'employees': 90, 'student': 1100} \n",
      " {'department': 'science', 'employees': 70, 'student': 1300}\n"
     ]
    }
   ],
   "source": [
    "# Add another parameter\n",
    "dep1.student = 900\n",
    "dep2.student = 1100\n",
    "dep3.student = 1300\n",
    "print (dep1.__dict__,\"\\n\",dep2.__dict__,\"\\n\",dep3.__dict__)"
   ]
  },
  {
   "cell_type": "code",
   "execution_count": 20,
   "metadata": {},
   "outputs": [
    {
     "name": "stdout",
     "output_type": "stream",
     "text": [
      "{'department': 'Engineering', 'employees': 60} \n",
      " {'department': 'Management', 'employees': 90} \n",
      " {'department': 'science', 'employees': 70}\n"
     ]
    }
   ],
   "source": [
    "#delte attributes\n",
    "del dep1.student\n",
    "del dep2.student\n",
    "del dep3.student\n",
    "print (dep1.__dict__,\"\\n\",dep2.__dict__,\"\\n\",dep3.__dict__)"
   ]
  },
  {
   "cell_type": "code",
   "execution_count": null,
   "metadata": {},
   "outputs": [],
   "source": [
    "#pillar of oops(object oriented programming system)\n",
    "\n",
    "#inheritance\n",
    "#parent class : exisiting class\n",
    "#child class : new class\n",
    "#abstraction(배분) \n",
    "#polymorphism(다형성)\n",
    "#Encapsulation(요약)"
   ]
  },
  {
   "cell_type": "code",
   "execution_count": 21,
   "metadata": {},
   "outputs": [
    {
     "name": "stdout",
     "output_type": "stream",
     "text": [
      "60\n"
     ]
    }
   ],
   "source": [
    "# PASS STATEMENT:  WHEN CHILD CLASS HAS THE ATTRIBUTES OF PARENT CLASS\n",
    "\n",
    "class school(college):\n",
    "    pass\n",
    "dep1 = school(\"Engineering\", 60)\n",
    "dep2 = school(\"Management\", 90)\n",
    "dep3 = school(\"science\", 70)\n",
    "\n",
    "print(dep1.employees)"
   ]
  },
  {
   "cell_type": "code",
   "execution_count": 26,
   "metadata": {},
   "outputs": [
    {
     "name": "stdout",
     "output_type": "stream",
     "text": [
      "{'department': 'Eng', 'employees': 60, 'students': 900} \n",
      " {'department': 'Mgt', 'employees': 80, 'students': 1900} \n",
      " {'department': 'Sci', 'employees': 100, 'students': 2000}\n"
     ]
    }
   ],
   "source": [
    "# SUPER STATEMENT : TO REPRESENT THE CHARACTERISTICS OF EXISTING CLASS\n",
    "\n",
    "class school_new(college):\n",
    "    def __init__(self, departement, employees, students):\n",
    "        super().__init__(departement, employees)\n",
    "        self.students = students\n",
    "dep1 = school_new(\"Eng\", 60, 900)\n",
    "dep2 = school_new(\"Mgt\", 80, 1900)\n",
    "dep3 = school_new(\"Sci\", 100, 2000)\n",
    "print (dep1.__dict__,\"\\n\",dep2.__dict__,\"\\n\",dep3.__dict__)"
   ]
  },
  {
   "cell_type": "code",
   "execution_count": 34,
   "metadata": {},
   "outputs": [
    {
     "name": "stdout",
     "output_type": "stream",
     "text": [
      "students:  7000\n"
     ]
    }
   ],
   "source": [
    "# ABSTARCTION\n",
    "from abc import ABC, abstractmethod\n",
    "class college(ABC):\n",
    "    def emp_id(self,students,department,employees):\n",
    "        super().__init__(department,employees)\n",
    "        self.students = students\n",
    "\n",
    "class school(college):\n",
    "    def emp_id(self,students):\n",
    "        print(\"students: \", students)\n",
    "emp1 = school()\n",
    "emp1.emp_id(7000)"
   ]
  },
  {
   "cell_type": "code",
   "execution_count": 38,
   "metadata": {},
   "outputs": [
    {
     "name": "stdout",
     "output_type": "stream",
     "text": [
      "my name is ricky, I am 27 years old\n",
      "my name is ricky, I am 27 years old\n",
      "rs\n",
      "my name is ricky, I am 27 years old\n",
      "my name is ricky, I am 27 years old\n",
      "my name is hanuel, I am 26 years old\n",
      "sk\n",
      "my name is hanuel, I am 26 years old\n"
     ]
    }
   ],
   "source": [
    "#Polymorphism\n",
    "class college1:\n",
    "    def __init__(self, name, age):\n",
    "        self.name = name\n",
    "        self.age = age\n",
    "    def method1(self):\n",
    "        print(f\"my name is {self.name}, I am {self.age} years old\")\n",
    "        print(f\"my name is {self.name}, I am {self.age} years old\")\n",
    "    def method2(self):\n",
    "        print(\"rs\")\n",
    "        \n",
    "class college2:\n",
    "    def __init__(self,name,age):\n",
    "        self.name = name\n",
    "        self.age = age\n",
    "    def method1(self):\n",
    "        print(f\"my name is {self.name}, I am {self.age} years old\")\n",
    "    def method2(self):\n",
    "        print(\"sk\")\n",
    "        \n",
    "col1 = college1(\"ricky\", 27)\n",
    "col2 = college2(\"hanuel\", 26)\n",
    "\n",
    "for subclass in (col1,col2):\n",
    "    subclass.method1()\n",
    "    subclass.method2()\n",
    "    subclass.method1()"
   ]
  },
  {
   "cell_type": "code",
   "execution_count": null,
   "metadata": {},
   "outputs": [],
   "source": []
  }
 ],
 "metadata": {
  "kernelspec": {
   "display_name": "Python 3",
   "language": "python",
   "name": "python3"
  },
  "language_info": {
   "codemirror_mode": {
    "name": "ipython",
    "version": 3
   },
   "file_extension": ".py",
   "mimetype": "text/x-python",
   "name": "python",
   "nbconvert_exporter": "python",
   "pygments_lexer": "ipython3",
   "version": "3.8.3"
  }
 },
 "nbformat": 4,
 "nbformat_minor": 4
}
