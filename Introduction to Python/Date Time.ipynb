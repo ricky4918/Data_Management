{
 "cells": [
  {
   "cell_type": "code",
   "execution_count": 7,
   "metadata": {},
   "outputs": [
    {
     "name": "stdout",
     "output_type": "stream",
     "text": [
      "Today's date.... 2020-08-24\n"
     ]
    }
   ],
   "source": [
    "import datetime\n",
    "from datetime import date\n",
    "from datetime import time\n",
    "from datetime import datetime\n",
    "from datetime import timedelta\n",
    "\n",
    "date_tdy = date.today()\n",
    "print(\"Today's date....\", date_tdy)"
   ]
  },
  {
   "cell_type": "code",
   "execution_count": 8,
   "metadata": {},
   "outputs": [
    {
     "name": "stdout",
     "output_type": "stream",
     "text": [
      "2020-08-23\n"
     ]
    }
   ],
   "source": [
    "dt_tdy = date(2020,8,23)\n",
    "print(dt_tdy)"
   ]
  },
  {
   "cell_type": "code",
   "execution_count": 9,
   "metadata": {},
   "outputs": [
    {
     "ename": "TypeError",
     "evalue": "function missing required argument 'month' (pos 2)",
     "output_type": "error",
     "traceback": [
      "\u001b[0;31m---------------------------------------------------------------------------\u001b[0m",
      "\u001b[0;31mTypeError\u001b[0m                                 Traceback (most recent call last)",
      "\u001b[0;32m<ipython-input-9-3a1aaee8723f>\u001b[0m in \u001b[0;36m<module>\u001b[0;34m\u001b[0m\n\u001b[0;32m----> 1\u001b[0;31m \u001b[0mdate_1\u001b[0m \u001b[0;34m=\u001b[0m \u001b[0mdate\u001b[0m\u001b[0;34m(\u001b[0m\u001b[0;36m2019\u001b[0m\u001b[0;34m-\u001b[0m\u001b[0;36m8\u001b[0m\u001b[0;34m-\u001b[0m\u001b[0;36m12\u001b[0m\u001b[0;34m)\u001b[0m\u001b[0;34m\u001b[0m\u001b[0;34m\u001b[0m\u001b[0m\n\u001b[0m\u001b[1;32m      2\u001b[0m \u001b[0mprint\u001b[0m\u001b[0;34m(\u001b[0m\u001b[0mdate_1\u001b[0m\u001b[0;34m)\u001b[0m\u001b[0;34m\u001b[0m\u001b[0;34m\u001b[0m\u001b[0m\n",
      "\u001b[0;31mTypeError\u001b[0m: function missing required argument 'month' (pos 2)"
     ]
    }
   ],
   "source": [
    "date_1 = date(2019-8-12)\n",
    "print(date_1)"
   ]
  },
  {
   "cell_type": "code",
   "execution_count": null,
   "metadata": {},
   "outputs": [],
   "source": [
    "# %a : TO GET WEEK IN THREE LETERS (TUE)\n",
    "# %A : TO GET FULL NAME OF WEEK\n",
    "# %b :  TO GET ABBERVIATION FOR MONTH(JAN)\n",
    "# %B : FULL NAME OF MONTH\n",
    "# %d : NUMBER FOR DAY\n",
    "# %w : NUMBER FOR WEEK 0 : SUNDAY, 1: MONDAY.....\n",
    "# %M : MINUTES\n",
    "# %m : NUMBER FOR MONTH\n",
    "# %H : HOURS\n",
    "# %S : SCONDS\n",
    "# %x : LOCAL DATE OBJECT (12/03/2019)\n",
    "# %X : LOCAL TIME OBJECT\n",
    "# %Y : FOR FOUR DIGITS OF YEARS\n",
    "# %y : FOR TWO DIGITS OF YEARS\n",
    "# %p : AM/PM"
   ]
  },
  {
   "cell_type": "code",
   "execution_count": 10,
   "metadata": {},
   "outputs": [
    {
     "name": "stdout",
     "output_type": "stream",
     "text": [
      "Today's Date & Time..... 2020-08-24 22:21:50.705801\n"
     ]
    }
   ],
   "source": [
    "# DATE TIME\n",
    "\n",
    "dt_tdy_tym = datetime.today()\n",
    "print(\"Today's Date & Time.....\", dt_tdy_tym)"
   ]
  },
  {
   "cell_type": "code",
   "execution_count": 13,
   "metadata": {},
   "outputs": [
    {
     "name": "stdout",
     "output_type": "stream",
     "text": [
      "Year:  2020\n"
     ]
    }
   ],
   "source": [
    "# strftime : FORMATTING TIME TO CONVERT DATE OBJECT INTO STRING\n",
    "# strftime(date.obj,format)\n",
    "# strptime : PARSE TIME : CONVERT STRING INTO OBJECT\n",
    "\n",
    "date1= date(2020,8,24)\n",
    "date_year = date1.strftime(\"%Y\")\n",
    "print(\"Year: \",date_year)"
   ]
  },
  {
   "cell_type": "code",
   "execution_count": null,
   "metadata": {},
   "outputs": [],
   "source": [
    "date2 = date(2020,8,23)\n",
    "dt = date2.strftime(\"%Y:%B:%d\")\n",
    "dt"
   ]
  },
  {
   "cell_type": "code",
   "execution_count": 14,
   "metadata": {},
   "outputs": [
    {
     "data": {
      "text/plain": [
       "0"
      ]
     },
     "execution_count": 14,
     "metadata": {},
     "output_type": "execute_result"
    }
   ],
   "source": [
    "#Return the day of the week as an integer, where Monday is 0 and Sunday is 6.\n",
    "date3 = date(2020,4,20)\n",
    "dt_wk = date.weekday(date3)\n",
    "dt_wk"
   ]
  },
  {
   "cell_type": "code",
   "execution_count": 15,
   "metadata": {},
   "outputs": [
    {
     "data": {
      "text/plain": [
       "datetime.datetime(2019, 3, 12, 6, 25, 21)"
      ]
     },
     "execution_count": 15,
     "metadata": {},
     "output_type": "execute_result"
    }
   ],
   "source": [
    "# strptime : CONVERT STRING INTO OBJECT\n",
    "\n",
    "date4 = \"2019/3/12 6:25:21\"\n",
    "\n",
    "dt_strp = datetime.strptime(date4 , \"%Y/%m/%d %H:%M:%S\")\n",
    "dt_strp"
   ]
  },
  {
   "cell_type": "code",
   "execution_count": null,
   "metadata": {},
   "outputs": [],
   "source": []
  }
 ],
 "metadata": {
  "kernelspec": {
   "display_name": "Python 3",
   "language": "python",
   "name": "python3"
  },
  "language_info": {
   "codemirror_mode": {
    "name": "ipython",
    "version": 3
   },
   "file_extension": ".py",
   "mimetype": "text/x-python",
   "name": "python",
   "nbconvert_exporter": "python",
   "pygments_lexer": "ipython3",
   "version": "3.8.3"
  }
 },
 "nbformat": 4,
 "nbformat_minor": 4
}
