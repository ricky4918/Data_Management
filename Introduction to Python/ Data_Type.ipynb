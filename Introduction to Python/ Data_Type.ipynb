{
 "cells": [
  {
   "cell_type": "code",
   "execution_count": null,
   "metadata": {},
   "outputs": [],
   "source": [
    "# Data Type\n",
    "\n",
    "# I. INTEGER : NUMBER (10)\n",
    "# II. DOUBLE : NUMBER WITH DECIMAL POINT (10.2)\n",
    "# III. COMPLEX NUMBER : INTEGER+IMAGINARY PART(3+2J)\n",
    "\n",
    "# IV. STRING : CHARACTER VALUE, UNICODE\n",
    "# V. BOOLEAN : LOGICAL OPERATOR (TRUE, FALSE) IT'S SIMPLY AN EXPRESSION WITH TRUE AND FALSE"
   ]
  },
  {
   "cell_type": "code",
   "execution_count": 1,
   "metadata": {},
   "outputs": [
    {
     "name": "stdout",
     "output_type": "stream",
     "text": [
      "20\n"
     ]
    }
   ],
   "source": [
    "x = 20\n",
    "print(x)"
   ]
  },
  {
   "cell_type": "code",
   "execution_count": 2,
   "metadata": {},
   "outputs": [
    {
     "name": "stdout",
     "output_type": "stream",
     "text": [
      "<class 'int'>\n"
     ]
    }
   ],
   "source": [
    "# Checking the data type\n",
    "print(type(x))"
   ]
  },
  {
   "cell_type": "code",
   "execution_count": 4,
   "metadata": {},
   "outputs": [
    {
     "name": "stdout",
     "output_type": "stream",
     "text": [
      "<class 'float'>\n"
     ]
    }
   ],
   "source": [
    "# Float\n",
    "float_1 = 23.56\n",
    "print(type(float_1))\n"
   ]
  },
  {
   "cell_type": "code",
   "execution_count": 5,
   "metadata": {},
   "outputs": [
    {
     "name": "stdout",
     "output_type": "stream",
     "text": [
      "(3+1j)\n"
     ]
    }
   ],
   "source": [
    "# Complex Number\n",
    "\n",
    "comp_1 = 3+1j\n",
    "print(comp_1)"
   ]
  },
  {
   "cell_type": "code",
   "execution_count": 6,
   "metadata": {},
   "outputs": [
    {
     "name": "stdout",
     "output_type": "stream",
     "text": [
      "<class 'str'>\n"
     ]
    }
   ],
   "source": [
    "#string : unicode, immutable, it include character, separater and space\n",
    "\n",
    "str_1 = (\"python, r, sas, selenium\")\n",
    "print(type(str_1))"
   ]
  },
  {
   "cell_type": "code",
   "execution_count": 2,
   "metadata": {},
   "outputs": [
    {
     "name": "stdout",
     "output_type": "stream",
     "text": [
      "[23, 34, 45, 56, 67, 78, 89, 98]\n",
      "[23, 34, 95, 56, 67, 78, 89, 98]\n",
      "{'sas', 'python', 'r', 'maths'}\n",
      "{'eng': 75, 'maths': 89, 'stats': 90, 'sci': 86}\n",
      "{'eng': 86, 'maths': 89, 'stats': 90}\n"
     ]
    }
   ],
   "source": [
    "#Data Structure: Framework that is used to stroe data\n",
    "\n",
    "#List : Square braket [], mutable in nature(we can change the element of list without changing it's identity(position))\n",
    "\n",
    "list_1 = [23,34,45,56,67,78,89,98]\n",
    "print(list_1)\n",
    "\n",
    "#change third element in the list\n",
    "list_1[2] = 95\n",
    "print(list_1)\n",
    "\n",
    "\n",
    "# SET : UNIQUE (REMOVE DUPLICATE VALUE), UNORDERED, SINGLE KEY TO REPRESENT VALUE, NOTATION IS {}, MUTABLE\n",
    "# set() : CAN ALSO BE USED TO CREATE SET\n",
    "\n",
    "my_set1 = {\"python\", \"r\", \"sas\", \"maths\"}\n",
    "print(my_set1)\n",
    "\n",
    "\n",
    "# DICTIONERY : KEY VALUE PAIR,KEY CAN BE STRING, NUMBER AS WELL. KEY IS USED TO IDENTIFY THE ITEM AND VALUE\n",
    "# OT ITEM, UNORDERD\n",
    "# dict() : USED TO CREATE DICTIONEY AND IT HELPS TO COPY THE ORIGINAL DICTIONERY AS WELL\n",
    "\n",
    "my_dict1 = {\"eng\" : 75,\"maths\" : 89, \"stats\": 90, \"sci\": 86}\n",
    "print(my_dict1)\n",
    "\n",
    "my_dict2 = {\"eng\" : 75,\"maths\" : 89, \"stats\": 90, \"eng\": 86}\n",
    "print(my_dict2)\n",
    "\n"
   ]
  },
  {
   "cell_type": "code",
   "execution_count": 3,
   "metadata": {},
   "outputs": [
    {
     "name": "stdout",
     "output_type": "stream",
     "text": [
      "('python', 'r', 'sas')\n"
     ]
    },
    {
     "ename": "TypeError",
     "evalue": "'tuple' object does not support item assignment",
     "output_type": "error",
     "traceback": [
      "\u001b[0;31m---------------------------------------------------------------------------\u001b[0m",
      "\u001b[0;31mTypeError\u001b[0m                                 Traceback (most recent call last)",
      "\u001b[0;32m<ipython-input-3-77b27f1c508d>\u001b[0m in \u001b[0;36m<module>\u001b[0;34m\u001b[0m\n\u001b[1;32m      6\u001b[0m \u001b[0;34m\u001b[0m\u001b[0m\n\u001b[1;32m      7\u001b[0m \u001b[0;31m# IMMUTABLE (CAN'T MODIFY)\u001b[0m\u001b[0;34m\u001b[0m\u001b[0;34m\u001b[0m\u001b[0;34m\u001b[0m\u001b[0m\n\u001b[0;32m----> 8\u001b[0;31m \u001b[0mtuple_1\u001b[0m\u001b[0;34m[\u001b[0m\u001b[0;36m1\u001b[0m\u001b[0;34m]\u001b[0m \u001b[0;34m=\u001b[0m \u001b[0;34m\"angular\"\u001b[0m\u001b[0;34m\u001b[0m\u001b[0;34m\u001b[0m\u001b[0m\n\u001b[0m\u001b[1;32m      9\u001b[0m \u001b[0mprint\u001b[0m\u001b[0;34m(\u001b[0m\u001b[0mtuple_1\u001b[0m\u001b[0;34m)\u001b[0m\u001b[0;34m\u001b[0m\u001b[0;34m\u001b[0m\u001b[0m\n",
      "\u001b[0;31mTypeError\u001b[0m: 'tuple' object does not support item assignment"
     ]
    }
   ],
   "source": [
    "# TUPLE : (), IMMUTABLE (CAN'T MODIFY)\n",
    "\n",
    "\n",
    "tuple_1 = (\"python\", \"r\", \"sas\")\n",
    "print(tuple_1)\n",
    "\n",
    "# IMMUTABLE (CAN'T MODIFY)\n",
    "tuple_1[1] = \"angular\"\n",
    "print(tuple_1)"
   ]
  },
  {
   "cell_type": "code",
   "execution_count": null,
   "metadata": {},
   "outputs": [],
   "source": []
  }
 ],
 "metadata": {
  "kernelspec": {
   "display_name": "Python 3",
   "language": "python",
   "name": "python3"
  },
  "language_info": {
   "codemirror_mode": {
    "name": "ipython",
    "version": 3
   },
   "file_extension": ".py",
   "mimetype": "text/x-python",
   "name": "python",
   "nbconvert_exporter": "python",
   "pygments_lexer": "ipython3",
   "version": "3.8.3"
  }
 },
 "nbformat": 4,
 "nbformat_minor": 4
}
