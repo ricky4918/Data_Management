{
 "cells": [
  {
   "cell_type": "code",
   "execution_count": 1,
   "metadata": {},
   "outputs": [
    {
     "name": "stdout",
     "output_type": "stream",
     "text": [
      "x is gt y\n"
     ]
    }
   ],
   "source": [
    "# CONDITIONAL STATEMENT (if, elif, else)\n",
    "# Be aware of indentation \n",
    "\n",
    "#if\n",
    "x = 33\n",
    "y = 30\n",
    "if x > y:\n",
    "    print(\"x is gt y\")"
   ]
  },
  {
   "cell_type": "code",
   "execution_count": 2,
   "metadata": {},
   "outputs": [
    {
     "name": "stdout",
     "output_type": "stream",
     "text": [
      "x is eq to y\n"
     ]
    }
   ],
   "source": [
    "x = 33\n",
    "y = 33\n",
    "\n",
    "#else if\n",
    "if x <y:\n",
    "    print(\"x is lt y\")\n",
    "elif x == y:\n",
    "    print(\"x is eq to y\")\n",
    "else:\n",
    "    print(\"x is gt 50\")"
   ]
  },
  {
   "cell_type": "code",
   "execution_count": 3,
   "metadata": {},
   "outputs": [
    {
     "name": "stdout",
     "output_type": "stream",
     "text": [
      "x is gt 10\n",
      "x is gt 20\n"
     ]
    }
   ],
   "source": [
    "# NESTED CONDITION : CONDITION INSIDE A CONDITION\n",
    "if x > 10:\n",
    "    print(\"x is gt 10\")\n",
    "    if x > 20:\n",
    "        print(\"x is gt 20\")\n",
    "    else:\n",
    "        print(\"x is eq to 30\")"
   ]
  },
  {
   "cell_type": "code",
   "execution_count": null,
   "metadata": {},
   "outputs": [],
   "source": [
    "# LOOP : ITERATION PURPOSE,\n",
    "# I. FOR LOOP : FOR N NUMBER OF ITERATIONS\n",
    "# II. WHILE LOOP : IT'S BASED ON CONDITIONS\n",
    "\n",
    "# BREAK : IT WILL BREAK THE LOOP BEFORE EXECUTION\n",
    "# CONTINUE : IT WILL SKIP THE CURRENT POSITION AND MOVE ON TO THE NEXT"
   ]
  },
  {
   "cell_type": "code",
   "execution_count": 4,
   "metadata": {},
   "outputs": [
    {
     "name": "stdout",
     "output_type": "stream",
     "text": [
      "4\n",
      "16\n",
      "36\n",
      "64\n",
      "100\n",
      "144\n",
      "196\n",
      "256\n",
      "324\n",
      "400\n",
      "484\n",
      "576\n",
      "676\n",
      "784\n",
      "900\n",
      "1024\n",
      "1156\n",
      "1296\n",
      "1444\n",
      "1600\n",
      "1764\n",
      "1936\n",
      "2116\n",
      "2304\n",
      "2500\n",
      "2704\n",
      "2916\n",
      "3136\n",
      "3364\n",
      "3600\n",
      "3844\n",
      "4096\n",
      "4356\n",
      "4624\n",
      "4900\n",
      "5184\n",
      "5476\n",
      "5776\n",
      "6084\n",
      "6400\n",
      "6724\n",
      "7056\n",
      "7396\n",
      "7744\n",
      "8100\n",
      "8464\n",
      "8836\n",
      "9216\n",
      "9604\n"
     ]
    }
   ],
   "source": [
    "# SQUARE OF EVEN NUMBER\n",
    "x = range(1,100)\n",
    "for value in x:\n",
    "    if value%2 == 0:\n",
    "        print(value*value)"
   ]
  },
  {
   "cell_type": "code",
   "execution_count": 5,
   "metadata": {},
   "outputs": [
    {
     "name": "stdout",
     "output_type": "stream",
     "text": [
      "1\n",
      "9\n",
      "25\n",
      "49\n",
      "81\n",
      "121\n",
      "169\n",
      "225\n",
      "289\n",
      "361\n",
      "441\n",
      "529\n",
      "625\n",
      "729\n",
      "841\n",
      "961\n",
      "1089\n",
      "1225\n",
      "1369\n",
      "1521\n",
      "1681\n",
      "1849\n",
      "2025\n",
      "2209\n",
      "2401\n",
      "2601\n",
      "2809\n",
      "3025\n",
      "3249\n",
      "3481\n",
      "3721\n",
      "3969\n",
      "4225\n",
      "4489\n",
      "4761\n",
      "5041\n",
      "5329\n",
      "5625\n",
      "5929\n",
      "6241\n",
      "6561\n",
      "6889\n",
      "7225\n",
      "7569\n",
      "7921\n",
      "8281\n",
      "8649\n",
      "9025\n",
      "9409\n",
      "9801\n"
     ]
    }
   ],
   "source": [
    "# SQUARE OF ODD NUMBERS\n",
    "for value in x:\n",
    "    if value%2 != 0:\n",
    "        print(value*value)"
   ]
  },
  {
   "cell_type": "code",
   "execution_count": 6,
   "metadata": {},
   "outputs": [
    {
     "name": "stdout",
     "output_type": "stream",
     "text": [
      "1\n",
      "8\n",
      "9\n",
      "64\n",
      "25\n",
      "216\n",
      "49\n",
      "512\n",
      "81\n",
      "1000\n",
      "121\n",
      "1728\n",
      "169\n",
      "2744\n",
      "225\n",
      "4096\n",
      "289\n",
      "5832\n",
      "361\n",
      "8000\n",
      "441\n",
      "10648\n",
      "529\n",
      "13824\n",
      "625\n",
      "17576\n",
      "729\n",
      "21952\n",
      "841\n",
      "27000\n",
      "961\n",
      "32768\n",
      "1089\n",
      "39304\n",
      "1225\n",
      "46656\n",
      "1369\n",
      "54872\n",
      "1521\n",
      "64000\n",
      "1681\n",
      "74088\n",
      "1849\n",
      "85184\n",
      "2025\n",
      "97336\n",
      "2209\n",
      "110592\n",
      "2401\n",
      "125000\n",
      "2601\n",
      "140608\n",
      "2809\n",
      "157464\n",
      "3025\n",
      "175616\n",
      "3249\n",
      "195112\n",
      "3481\n",
      "216000\n",
      "3721\n",
      "238328\n",
      "3969\n",
      "262144\n",
      "4225\n",
      "287496\n",
      "4489\n",
      "314432\n",
      "4761\n",
      "343000\n",
      "5041\n",
      "373248\n",
      "5329\n",
      "405224\n",
      "5625\n",
      "438976\n",
      "5929\n",
      "474552\n",
      "6241\n",
      "512000\n",
      "6561\n",
      "551368\n",
      "6889\n",
      "592704\n",
      "7225\n",
      "636056\n",
      "7569\n",
      "681472\n",
      "7921\n",
      "729000\n",
      "8281\n",
      "778688\n",
      "8649\n",
      "830584\n",
      "9025\n",
      "884736\n",
      "9409\n",
      "941192\n",
      "9801\n"
     ]
    }
   ],
   "source": [
    "#square of even number and cube of odd number\n",
    "for value in x:\n",
    "    if value%2 != 0:\n",
    "        print(value*value)\n",
    "    elif value%2 == 0:\n",
    "        print(value*value*value)"
   ]
  },
  {
   "cell_type": "code",
   "execution_count": 9,
   "metadata": {},
   "outputs": [
    {
     "name": "stdout",
     "output_type": "stream",
     "text": [
      "python\n",
      "java\n",
      "r\n",
      "python\n",
      "java\n"
     ]
    }
   ],
   "source": [
    "# BREAK STATEMENT\n",
    "batch = (\"python\",\"java\",\"r\",\"sas\",\"tableau\")\n",
    "for session in batch:\n",
    "    print(session)\n",
    "    if session == \"r\":\n",
    "        break\n",
    "\n",
    "\n",
    "for session in batch:\n",
    "    if session == \"r\":\n",
    "        break\n",
    "    print(session)"
   ]
  },
  {
   "cell_type": "code",
   "execution_count": 10,
   "metadata": {},
   "outputs": [
    {
     "name": "stdout",
     "output_type": "stream",
     "text": [
      "python\n",
      "r\n",
      "sas\n",
      "tableau\n"
     ]
    }
   ],
   "source": [
    "# CONTINUE STATEMENT\n",
    "\n",
    "for value1 in batch:\n",
    "    if value1 == \"java\":\n",
    "        continue\n",
    "    print(value1)"
   ]
  },
  {
   "cell_type": "code",
   "execution_count": 12,
   "metadata": {},
   "outputs": [
    {
     "name": "stdout",
     "output_type": "stream",
     "text": [
      "python rupesh\n",
      "python uhfa\n",
      "python sam\n",
      "python olu\n",
      "python hassan\n",
      "java rupesh\n",
      "java uhfa\n",
      "java sam\n",
      "java olu\n",
      "java hassan\n",
      "r rupesh\n",
      "r uhfa\n",
      "r sam\n",
      "r olu\n",
      "r hassan\n",
      "sas rupesh\n",
      "sas uhfa\n",
      "sas sam\n",
      "sas olu\n",
      "sas hassan\n",
      "tableau rupesh\n",
      "tableau uhfa\n",
      "tableau sam\n",
      "tableau olu\n",
      "tableau hassan\n",
      "\n",
      "----------------------\n",
      "2\n",
      "3\n",
      "4\n",
      "5\n"
     ]
    }
   ],
   "source": [
    "# NESTED LOOP\n",
    "\n",
    "batch = (\"python\",\"java\",\"r\",\"sas\",\"tableau\")\n",
    "name = (\"rupesh\",\"uhfa\",\"sam\",\"olu\",\"hassan\")\n",
    "\n",
    "for x in batch:\n",
    "    for y in name:\n",
    "        print(x,y)\n",
    "\n",
    "# WHILE LOOP\n",
    "\n",
    "print(\"\\n----------------------\")\n",
    "\n",
    "i = 1\n",
    "\n",
    "while i <5:\n",
    "    i+= 1\n",
    "    print(i)"
   ]
  },
  {
   "cell_type": "code",
   "execution_count": null,
   "metadata": {},
   "outputs": [],
   "source": []
  }
 ],
 "metadata": {
  "kernelspec": {
   "display_name": "Python 3",
   "language": "python",
   "name": "python3"
  },
  "language_info": {
   "codemirror_mode": {
    "name": "ipython",
    "version": 3
   },
   "file_extension": ".py",
   "mimetype": "text/x-python",
   "name": "python",
   "nbconvert_exporter": "python",
   "pygments_lexer": "ipython3",
   "version": "3.8.3"
  }
 },
 "nbformat": 4,
 "nbformat_minor": 4
}
