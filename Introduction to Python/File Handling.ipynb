{
 "cells": [
  {
   "cell_type": "code",
   "execution_count": null,
   "metadata": {},
   "outputs": [],
   "source": [
    "# FILE HANDLING"
   ]
  },
  {
   "cell_type": "code",
   "execution_count": null,
   "metadata": {},
   "outputs": [],
   "source": [
    "# OPEN (path/filename,mode)\n",
    "\n",
    "# 'r': read the file\n",
    "# 'w': write the files and create file\n",
    "# 'a' : append is used to update the file and it creates file as well\n",
    "# 'x' : create file and give error if file already exist"
   ]
  },
  {
   "cell_type": "code",
   "execution_count": 3,
   "metadata": {},
   "outputs": [
    {
     "name": "stdout",
     "output_type": "stream",
     "text": [
      "Series reference,Period,Description,Revised,Initially published\n",
      "FPIQ.SEA31,2019.09,\"Farm expenses price index, Horticulture and fruit growing farm, Livestock purchases\",1434,1453\n",
      "FPIQ.SEA31,2019.12,\"Farm expenses price index, Horticulture and fruit growing farm, Livestock purchases\",1453,1472\n",
      "FPIQ.SEA31,2020.03,\"Farm expenses price index, Horticulture and fruit growing farm, Livestock purchases\",1412,1431\n",
      "FPIQ.SEB31,2019.09,\"Farm expenses price index, Sheep, beef, and grain farms, Livestock purchases\",1489,1492\n",
      "FPIQ.SEB31,2019.12,\"Farm expenses price index, Sheep, beef, and grain farms, Livestock purchases\",1507,1510\n",
      "FPIQ.SEB31,2020.03,\"Farm expenses price index, Sheep, beef, and grain farms, Livestock purchases\",1462,1465\n",
      "FPIQ.SEB39,2019.09,\"Farm expenses price index, Sheep, beef, and grain farms, Subtotal including livestock\",1193,1194\n",
      "FPIQ.SEB39,2019.12,\"Farm expenses price index, Sheep, beef, and grain farms, Subtotal including livestock\",1199,1200\n",
      "FPIQ.SEB39,2020.03,\"Farm expenses price index, Sheep, beef, and grain farms, Subtotal including livestock\",1187,1188\n",
      "FPIQ.SEB99,2019.12,\"Farm expenses price index, Sheep, beef, and grain farms, All inputs including livestock\",1159,1160\n",
      "FPIQ.SEC31,2019.09,\"Farm expenses price index, Dairy farms, Livestock purchases\",992,1074\n",
      "FPIQ.SEC31,2019.12,\"Farm expenses price index, Dairy farms, Livestock purchases\",1009,1091\n",
      "FPIQ.SEC31,2020.03,\"Farm expenses price index, Dairy farms, Livestock purchases\",984,1065\n",
      "FPIQ.SEC39,2019.09,\"Farm expenses price index, Dairy farms, Subtotal including livestock\",1072,1079\n",
      "FPIQ.SEC39,2019.12,\"Farm expenses price index, Dairy farms, Subtotal including livestock\",1080,1087\n",
      "FPIQ.SEC39,2020.03,\"Farm expenses price index, Dairy farms, Subtotal including livestock\",1083,1090\n",
      "FPIQ.SEC99,2019.09,\"Farm expenses price index, Dairy farms, All inputs including livestock\",1047,1052\n",
      "FPIQ.SEC99,2019.12,\"Farm expenses price index, Dairy farms, All inputs including livestock\",1048,1053\n",
      "FPIQ.SEC99,2020.03,\"Farm expenses price index, Dairy farms, All inputs including livestock\",1052,1057\n",
      "FPIQ.SED31,2019.09,\"Farm expenses price index, Poultry, deer, and other livestock, Livestock purchases\",1231,1263\n",
      "FPIQ.SED31,2019.12,\"Farm expenses price index, Poultry, deer, and other livestock, Livestock purchases\",1235,1267\n",
      "FPIQ.SED31,2020.03,\"Farm expenses price index, Poultry, deer, and other livestock, Livestock purchases\",1235,1267\n",
      "FPIQ.SED39,2019.09,\"Farm expenses price index, Poultry, deer, and other livestock, Subtotal including livestock\",1089,1092\n",
      "FPIQ.SED39,2019.12,\"Farm expenses price index, Poultry, deer, and other livestock, Subtotal including livestock\",1092,1095\n",
      "FPIQ.SED39,2020.03,\"Farm expenses price index, Poultry, deer, and other livestock, Subtotal including livestock\",1097,1099\n",
      "FPIQ.SED99,2019.09,\"Farm expenses price index, Poultry, deer, and other livestock, All inputs including livestock\",1075,1077\n",
      "FPIQ.SED99,2019.12,\"Farm expenses price index, Poultry, deer, and other livestock, All inputs including livestock\",1077,1079\n",
      "FPIQ.SED99,2020.03,\"Farm expenses price index, Poultry, deer, and other livestock, All inputs including livestock\",1081,1083\n",
      "FPIQ.SEE31,2019.09,\"Farm expenses price index, Sheep and beef farms, Livestock purchases\",1489,1492\n",
      "FPIQ.SEE31,2019.12,\"Farm expenses price index, Sheep and beef farms, Livestock purchases\",1507,1510\n",
      "FPIQ.SEE31,2020.03,\"Farm expenses price index, Sheep and beef farms, Livestock purchases\",1462,1465\n",
      "FPIQ.SEE39,2019.09,\"Farm expenses price index, Sheep and beef farms, Subtotal including livestock\",1206,1207\n",
      "FPIQ.SEE39,2019.12,\"Farm expenses price index, Sheep and beef farms, Subtotal including livestock\",1213,1214\n",
      "FPIQ.SEE39,2020.03,\"Farm expenses price index, Sheep and beef farms, Subtotal including livestock\",1199,1200\n",
      "FPIQ.SEE99,2019.09,\"Farm expenses price index, Sheep and beef farms, All inputs including livestock\",1166,1167\n",
      "FPIQ.SEE99,2019.12,\"Farm expenses price index, Sheep and beef farms, All inputs including livestock\",1170,1171\n",
      "FPIQ.SEE99,2020.03,\"Farm expenses price index, Sheep and beef farms, All inputs including livestock\",1160,1161\n",
      "FPIQ.SEF31,2019.09,\"Farm expenses price index, Cropping and other farming, Livestock purchases\",1231,1263\n",
      "FPIQ.SEF31,2019.12,\"Farm expenses price index, Cropping and other farming, Livestock purchases\",1235,1267\n",
      "FPIQ.SEF31,2020.03,\"Farm expenses price index, Cropping and other farming, Livestock purchases\",1235,1267\n",
      "FPIQ.SEF39,2019.09,\"Farm expenses price index, Cropping and other farming, Subtotal including livestock\",1080,1082\n",
      "FPIQ.SEF39,2019.12,\"Farm expenses price index, Cropping and other farming, Subtotal including livestock\",1083,1085\n",
      "FPIQ.SEF39,2020.03,\"Farm expenses price index, Cropping and other farming, Subtotal including livestock\",1085,1087\n",
      "FPIQ.SEF99,2019.09,\"Farm expenses price index, Cropping and other farming, All inputs including livestock\",1067,1068\n",
      "FPIQ.SEF99,2019.12,\"Farm expenses price index, Cropping and other farming, All inputs including livestock\",1067,1068\n",
      "FPIQ.SEF99,2020.03,\"Farm expenses price index, Cropping and other farming, All inputs including livestock\",1069,1070\n",
      "FPIQ.SEH31,2019.09,\"Farm expenses price index, All farms, Livestock purchases\",1219,1267\n",
      "FPIQ.SEH31,2019.12,\"Farm expenses price index, All farms, Livestock purchases\",1236,1284\n",
      "FPIQ.SEH31,2020.03,\"Farm expenses price index, All farms, Livestock purchases\",1205,1253\n",
      "FPIQ.SEH39,2019.09,\"Farm expenses price index, All farms, Subtotal including livestock\",1122,1126\n",
      "FPIQ.SEH39,2019.12,\"Farm expenses price index, All farms, Subtotal including livestock\",1128,1132\n",
      "FPIQ.SEH39,2020.03,\"Farm expenses price index, All farms, Subtotal including livestock\",1126,1130\n",
      "FPIQ.SEH99,2019.09,\"Farm expenses price index, All farms, All inputs including livestock\",1095,1097\n",
      "FPIQ.SEH99,2019.12,\"Farm expenses price index, All farms, All inputs including livestock\",1097,1099\n",
      "FPIQ.SEH99,2020.03,\"Farm expenses price index, All farms, All inputs including livestock\",1096,1099\n",
      "PPIQ.SQN800000,2019.12,\"PPI input index level 0, All industries excl admin, health, education\",1169,1170\n",
      "PPIQ.SQN800001,2020.03,\"PPI input index level 0, All industries excl admin health education OOD\",1165,1166\n",
      "PPIQ.SQN900000,2019.12,\"PPI input index level 0, All industries\",1168,1169\n",
      "PPIQ.SQN900001,2019.12,\"PPI input index level 0, All industries excl OOD\",1168,1169\n",
      "PPIQ.SQNAA0000,2019.09,\"PPI input index level 1, Agriculture\",1200,1203\n",
      "PPIQ.SQNAA0000,2019.12,\"PPI input index level 1, Agriculture\",1205,1207\n",
      "PPIQ.SQNAA0000,2020.03,\"PPI input index level 1, Agriculture\",1205,1207\n",
      "PPIQ.SQNAA1000,2019.09,\"PPI input index level 2, Agriculture\",1197,1200\n",
      "PPIQ.SQNAA1000,2019.12,\"PPI input index level 2, Agriculture\",1201,1204\n",
      "PPIQ.SQNAA1000,2020.03,\"PPI input index level 2, Agriculture\",1200,1203\n",
      "PPIQ.SQNAA1100,2019.09,\"PPI input index level 3, Horticulture and fruit growing\",1160,1161\n",
      "PPIQ.SQNAA1201,2019.12,\"PPI input index level 3, Sheep, beef cattle, and grain farming\",1193,1194\n",
      "PPIQ.SQNAA1201,2020.03,\"PPI input index level 3, Sheep, beef cattle, and grain farming\",1182,1183\n",
      "PPIQ.SQNAA1300,2019.09,\"PPI input index level 3, Dairy cattle farming\",1164,1171\n",
      "PPIQ.SQNAA1300,2019.12,\"PPI input index level 3, Dairy cattle farming\",1169,1176\n",
      "PPIQ.SQNAA1300,2020.03,\"PPI input index level 3, Dairy cattle farming\",1173,1181\n",
      "PPIQ.SQNAA1401,2019.09,\"PPI input index level 3, Poultry, deer, and other livestock farming\",1089,1092\n",
      "PPIQ.SQNAA1401,2019.12,\"PPI input index level 3, Poultry, deer, and other livestock farming\",1092,1094\n",
      "PPIQ.SQNAA1401,2020.03,\"PPI input index level 3, Poultry, deer, and other livestock farming\",1096,1099\n",
      "PPIQ.SQNC02100,2019.09,\"PPI published commodities - input, Livestock, sheep\",1674,1694\n",
      "PPIQ.SQNC02100,2019.12,\"PPI published commodities - input, Livestock, sheep\",1745,1765\n",
      "PPIQ.SQNC02100,2020.03,\"PPI published commodities - input, Livestock, sheep\",1514,1534\n",
      "PPIQ.SQNC02250,2019.09,\"PPI published commodities - input, Livestock, cattle\",1960,1948\n",
      "PPIQ.SQNC02250,2019.12,\"PPI published commodities - input, Livestock, cattle\",2099,2088\n",
      "PPIQ.SQNC02250,2020.03,\"PPI published commodities - input, Livestock, cattle\",1756,1745\n",
      "PPIQ.SQNC02420,2019.09,\"PPI published commodities - input, Livestock, deer\",1396,1402\n",
      "PPIQ.SQNC02420,2019.12,\"PPI published commodities - input, Livestock, deer\",1385,1391\n",
      "PPIQ.SQNC02420,2020.03,\"PPI published commodities - input, Livestock, deer\",1199,1205\n",
      "PPIQ.SQNCC0000,2019.09,\"PPI input index level 1, Manufacturing\",1153,1154\n",
      "PPIQ.SQNCC1000,2019.12,\"PPI input index level 2, Food manufacturing\",1231,1232\n",
      "PPIQ.SQNCC1000,2020.03,\"PPI input index level 2, Food manufacturing\",1202,1203\n",
      "PPIQ.SQNCC1100,2019.09,\"PPI input index level 3, Meat and meat product manufacturing\",1400,1403\n",
      "PPIQ.SQNCC1100,2019.12,\"PPI input index level 3, Meat and meat product manufacturing\",1450,1454\n",
      "PPIQ.SQNCC1100,2020.03,\"PPI input index level 3, Meat and meat product manufacturing\",1317,1320\n",
      "PPIQ.SQUAA0000,2019.09,\"PPI output index level 1, Agriculture\",1286,1287\n",
      "PPIQ.SQUAA0000,2019.12,\"PPI output index level 1, Agriculture\",1317,1318\n",
      "PPIQ.SQUAA0000,2020.03,\"PPI output index level 1, Agriculture\",1276,1277\n",
      "PPIQ.SQUAA1000,2019.09,\"PPI output index level 2, Agriculture\",1297,1298\n",
      "PPIQ.SQUAA1000,2019.12,\"PPI output index level 2, Agriculture\",1335,1336\n",
      "PPIQ.SQUAA1000,2020.03,\"PPI output index level 2, Agriculture\",1282,1283\n",
      "PPIQ.SQUAA1200,2019.09,\"PPI output index level 3, Sheep, beef cattle, and grain farming\",1541,1545\n",
      "PPIQ.SQUAA1200,2019.12,\"PPI output index level 3, Sheep, beef cattle, and grain farming\",1609,1613\n",
      "PPIQ.SQUAA1200,2020.03,\"PPI output index level 3, Sheep, beef cattle, and grain farming\",1424,1428\n",
      "PPIQ.SQUAA1300,2019.12,\"PPI output index level 3, Dairy cattle farming\",1100,1101\n",
      "PPIQ.SQUAA1400,2020.03,\"PPI output index level 3, Poultry, deer, and other livestock farming\",1276,1277\n",
      "PPIQ.SQUC02100,2019.09,\"PPI published commodities - output, Livestock, sheep\",2152,2178\n",
      "PPIQ.SQUC02100,2019.12,\"PPI published commodities - output, Livestock, sheep\",2245,2270\n",
      "PPIQ.SQUC02100,2020.03,\"PPI published commodities - output, Livestock, sheep\",1947,1972\n",
      "PPIQ.SQUC02250,2019.09,\"PPI published commodities - output, Livestock, cattle\",1958,1947\n",
      "PPIQ.SQUC02250,2019.12,\"PPI published commodities - output, Livestock, cattle\",2098,2087\n",
      "PPIQ.SQUC02250,2020.03,\"PPI published commodities - output, Livestock, cattle\",1754,1743\n",
      "PPIQ.SQUC02420,2019.09,\"PPI published commodities - output, Livestock, deer\",1394,1400\n",
      "PPIQ.SQUC02420,2019.12,\"PPI published commodities - output, Livestock, deer\",1383,1389\n",
      "PPIQ.SQUC02420,2020.03,\"PPI published commodities - output, Livestock, deer\",1197,1203\n",
      "PPIQ.SQUII0000,2020.03,\"PPI output index level 1, Transport, postal and warehousing\",1202,1199\n",
      "PPIQ.SQUII1000,2020.03,\"PPI output index level 2, Transport, postal and warehousing\",1202,1199\n",
      "PPIQ.SQUII1200,2020.03,\"PPI output index level 3, Rail, water, air and other transport\",1089,1083\n",
      "\n"
     ]
    }
   ],
   "source": [
    "# READ\n",
    "import os.path\n",
    "SampleData = os.path.expanduser(\"~/desktop/Trainning/DataSetHandling/SampleData.csv\")\n",
    "f = open(SampleData)\n",
    "print(f.read())"
   ]
  },
  {
   "cell_type": "code",
   "execution_count": 7,
   "metadata": {},
   "outputs": [
    {
     "ename": "FileNotFoundError",
     "evalue": "[Errno 2] No such file or directory: '/Users/sanghyunryu/desktop/Trainning/DataSetHandling/SampleText.txt'",
     "output_type": "error",
     "traceback": [
      "\u001b[0;31m---------------------------------------------------------------------------\u001b[0m",
      "\u001b[0;31mFileNotFoundError\u001b[0m                         Traceback (most recent call last)",
      "\u001b[0;32m<ipython-input-7-bd1af432ff5c>\u001b[0m in \u001b[0;36m<module>\u001b[0;34m\u001b[0m\n\u001b[1;32m      1\u001b[0m \u001b[0mSampleText\u001b[0m \u001b[0;34m=\u001b[0m \u001b[0mos\u001b[0m\u001b[0;34m.\u001b[0m\u001b[0mpath\u001b[0m\u001b[0;34m.\u001b[0m\u001b[0mexpanduser\u001b[0m\u001b[0;34m(\u001b[0m\u001b[0;34m\"~/desktop/Trainning/DataSetHandling/SampleText.txt\"\u001b[0m\u001b[0;34m)\u001b[0m\u001b[0;34m\u001b[0m\u001b[0;34m\u001b[0m\u001b[0m\n\u001b[0;32m----> 2\u001b[0;31m \u001b[0mf\u001b[0m \u001b[0;34m=\u001b[0m \u001b[0mopen\u001b[0m\u001b[0;34m(\u001b[0m\u001b[0mSampleText\u001b[0m\u001b[0;34m)\u001b[0m\u001b[0;34m\u001b[0m\u001b[0;34m\u001b[0m\u001b[0m\n\u001b[0m\u001b[1;32m      3\u001b[0m \u001b[0mf\u001b[0m\u001b[0;34m.\u001b[0m\u001b[0mwrite\u001b[0m\u001b[0;34m(\u001b[0m\u001b[0;34m\"This is line 1\"\u001b[0m\u001b[0;34m)\u001b[0m\u001b[0;34m\u001b[0m\u001b[0;34m\u001b[0m\u001b[0m\n\u001b[1;32m      4\u001b[0m \u001b[0mf\u001b[0m\u001b[0;34m.\u001b[0m\u001b[0mclose\u001b[0m\u001b[0;34m(\u001b[0m\u001b[0;34m)\u001b[0m\u001b[0;34m\u001b[0m\u001b[0;34m\u001b[0m\u001b[0m\n",
      "\u001b[0;31mFileNotFoundError\u001b[0m: [Errno 2] No such file or directory: '/Users/sanghyunryu/desktop/Trainning/DataSetHandling/SampleText.txt'"
     ]
    }
   ],
   "source": [
    "SampleText = os.path.expanduser(\"~/desktop/Trainning/DataSetHandling/SampleText.txt\")\n",
    "f = open(SampleText)\n",
    "f.write(\"This is line 1\")\n",
    "f.close()"
   ]
  },
  {
   "cell_type": "code",
   "execution_count": 3,
   "metadata": {},
   "outputs": [],
   "source": [
    "# WRITE\n",
    "\n",
    "x = open(\"D:\\Works Stuffs\\Misc\\Datasets\\python_batch.txt\", 'w')\n",
    "x.write(\"This is line 1 /n\")\n",
    "x.write(\"This is line 2\")\n",
    "x.close()"
   ]
  },
  {
   "cell_type": "code",
   "execution_count": 8,
   "metadata": {},
   "outputs": [],
   "source": [
    "# APPEND\n",
    "\n",
    "x = open(\"D:\\Works Stuffs\\Misc\\Datasets\\python_batch.txt\", 'a')\n",
    "x.write(\"\\nThis is line 3\")\n",
    "x.close()\n"
   ]
  },
  {
   "cell_type": "code",
   "execution_count": 4,
   "metadata": {},
   "outputs": [
    {
     "ename": "FileExistsError",
     "evalue": "[Errno 17] File exists: 'D:\\\\Works Stuffs\\\\Misc\\\\Datasets\\\\python_batch.txt'",
     "output_type": "error",
     "traceback": [
      "\u001b[1;31m---------------------------------------------------------------------------\u001b[0m",
      "\u001b[1;31mFileExistsError\u001b[0m                           Traceback (most recent call last)",
      "\u001b[1;32m<ipython-input-4-1c1c958b1932>\u001b[0m in \u001b[0;36m<module>\u001b[1;34m\u001b[0m\n\u001b[0;32m      1\u001b[0m \u001b[1;31m# CREATE : give error\u001b[0m\u001b[1;33m\u001b[0m\u001b[1;33m\u001b[0m\u001b[1;33m\u001b[0m\u001b[0m\n\u001b[0;32m      2\u001b[0m \u001b[1;33m\u001b[0m\u001b[0m\n\u001b[1;32m----> 3\u001b[1;33m \u001b[0mx\u001b[0m \u001b[1;33m=\u001b[0m \u001b[0mopen\u001b[0m\u001b[1;33m(\u001b[0m\u001b[1;34m\"D:\\Works Stuffs\\Misc\\Datasets\\python_batch.txt\"\u001b[0m\u001b[1;33m,\u001b[0m \u001b[1;34m'x'\u001b[0m\u001b[1;33m)\u001b[0m\u001b[1;33m\u001b[0m\u001b[1;33m\u001b[0m\u001b[0m\n\u001b[0m\u001b[0;32m      4\u001b[0m \u001b[0mx\u001b[0m\u001b[1;33m.\u001b[0m\u001b[0mwrite\u001b[0m\u001b[1;33m(\u001b[0m\u001b[1;34m\"This is new sample create\"\u001b[0m\u001b[1;33m)\u001b[0m\u001b[1;33m\u001b[0m\u001b[1;33m\u001b[0m\u001b[0m\n\u001b[0;32m      5\u001b[0m \u001b[0mx\u001b[0m\u001b[1;33m.\u001b[0m\u001b[0mclose\u001b[0m\u001b[1;33m(\u001b[0m\u001b[1;33m)\u001b[0m\u001b[1;33m\u001b[0m\u001b[1;33m\u001b[0m\u001b[0m\n",
      "\u001b[1;31mFileExistsError\u001b[0m: [Errno 17] File exists: 'D:\\\\Works Stuffs\\\\Misc\\\\Datasets\\\\python_batch.txt'"
     ]
    }
   ],
   "source": [
    "# CREATE :  To create a file use different name , same file name will give an error \n",
    "\n",
    "x = open(\"D:\\Works Stuffs\\Misc\\Datasets\\python_batch.txt\", 'x')\n",
    "x.write(\"This is new sample create\")\n",
    "x.close()"
   ]
  },
  {
   "cell_type": "code",
   "execution_count": 5,
   "metadata": {},
   "outputs": [],
   "source": [
    "x = open(\"D:\\Works Stuffs\\Misc\\Datasets\\sample_1.txt\", 'x')\n",
    "x.write(\"This is new sample create\")\n",
    "x.close()"
   ]
  },
  {
   "cell_type": "code",
   "execution_count": null,
   "metadata": {},
   "outputs": [],
   "source": [
    "\"binary\" : \"b\""
   ]
  }
 ],
 "metadata": {
  "kernelspec": {
   "display_name": "Python 3",
   "language": "python",
   "name": "python3"
  },
  "language_info": {
   "codemirror_mode": {
    "name": "ipython",
    "version": 3
   },
   "file_extension": ".py",
   "mimetype": "text/x-python",
   "name": "python",
   "nbconvert_exporter": "python",
   "pygments_lexer": "ipython3",
   "version": "3.8.3"
  }
 },
 "nbformat": 4,
 "nbformat_minor": 2
}
